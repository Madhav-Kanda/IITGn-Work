{
  "cells": [
    {
      "attachments": {},
      "cell_type": "markdown",
      "metadata": {},
      "source": [
        "**ES 654 PreRequisite Assignment**\n",
        "*- Madhav Kanda (20110104)*\n"
      ]
    },
    {
      "attachments": {},
      "cell_type": "markdown",
      "metadata": {},
      "source": [
        "*Import Statements*"
      ]
    },
    {
      "cell_type": "code",
      "execution_count": 1,
      "metadata": {
        "id": "otJo63W6Cbni"
      },
      "outputs": [],
      "source": [
        "import numpy as np\n",
        "import matplotlib.pyplot as plt\n",
        "import pandas as pd\n",
        "import jax\n",
        "import jax.numpy as jnp\n",
        "import time\n",
        "import sympy as sp      ## Need to pip install it"
      ]
    },
    {
      "attachments": {},
      "cell_type": "markdown",
      "metadata": {
        "id": "mVGyU9hOoNun"
      },
      "source": [
        "**Q1. How many multiplications and additions do you need to perform a matrix multiplication between a (n, k) and (k, m) matrix? Explain.**\n",
        "\n",
        "A1. Total number of additions required are n x m x (k-1) and multiplication are n x m x k. Corresponding to each element in the resultant matrix there is a requirement of k-1 additions and k multiplications. Thus total number of multiplications are n x m x k and additions are n x m x (k-1) as the total entries in the resultant matrix will be (n x m)"
      ]
    },
    {
      "attachments": {},
      "cell_type": "markdown",
      "metadata": {
        "id": "c-PtRXx0oWGz"
      },
      "source": [
        "**Q2. Write Python code to multiply the above two matrices. Solve using list of lists and then use numpy. Compare the timing of both solutions. Which one is faster? Why?**"
      ]
    },
    {
      "cell_type": "code",
      "execution_count": 114,
      "metadata": {
        "id": "AEwfdLOmoZzW"
      },
      "outputs": [],
      "source": [
        "# Defining the parameters n,k,m\n",
        "n = 2\n",
        "k = 3\n",
        "m = 4\n",
        "\n",
        "# Initialising the matrices\n",
        "matrix_1 =  np.random.randint(low = 1, high = 100,size = (n,k))\n",
        "matrix_2 = np.random.randint(low = 1, high = 100, size = (k,m))"
      ]
    },
    {
      "cell_type": "code",
      "execution_count": 115,
      "metadata": {
        "id": "sSZNz6Nfr3I4"
      },
      "outputs": [],
      "source": [
        "def mat_mul(matrix_1, matrix_2, n, k, m):\n",
        "  resultant_matrix = [[0 for j in range(m)] for i in range(n)] # Initialising the resultant matrix\n",
        "  for i in range(n):          # Computing matrix multiplication\n",
        "    for j in range(m):\n",
        "      for l in range(k):\n",
        "        resultant_matrix[i][j] += matrix_1[i][l] * matrix_2[l][j]\n",
        "\n",
        "  return resultant_matrix"
      ]
    },
    {
      "cell_type": "code",
      "execution_count": 116,
      "metadata": {},
      "outputs": [
        {
          "name": "stdout",
          "output_type": "stream",
          "text": [
            "[[3398, 4523, 1325, 5058], [1764, 3381, 2769, 5420]]\n",
            "[[3398 4523 1325 5058]\n",
            " [1764 3381 2769 5420]]\n",
            "Since both methods give same result hence our implementation is correct \n"
          ]
        }
      ],
      "source": [
        "print(mat_mul(matrix_1,matrix_2,n,k,m))\n",
        "print(np.matmul(matrix_1,matrix_2))\n",
        "print(\"Since both methods give same result hence our implementation is correct \")"
      ]
    },
    {
      "cell_type": "code",
      "execution_count": 113,
      "metadata": {},
      "outputs": [],
      "source": [
        "# Defining the parameters n,k,m\n",
        "n = 10\n",
        "k = 20\n",
        "m = 30\n",
        "\n",
        "# Initialising the matrices\n",
        "matrix_1 =  np.random.randint(low = 1, high = 100,size = (n,k))\n",
        "matrix_2 = np.random.randint(low = 1, high = 100, size = (k,m))"
      ]
    },
    {
      "cell_type": "code",
      "execution_count": 4,
      "metadata": {
        "colab": {
          "base_uri": "https://localhost:8080/"
        },
        "id": "8xpC11VwsYVG",
        "outputId": "481a3ae6-683d-486f-9279-02593f9c9b4a"
      },
      "outputs": [
        {
          "name": "stdout",
          "output_type": "stream",
          "text": [
            "Average time for list of list matrix multiplication for 1000 iterations is 9555.791100000333 ms\n",
            "The standard deviation is 3743.3606446679187 ms\n"
          ]
        }
      ],
      "source": [
        "list_time = 0\n",
        "std = 0\n",
        "\n",
        "for i in range(1000):\n",
        "  time_start = time.perf_counter()\n",
        "  c = mat_mul(matrix_1,matrix_2,n,k,m)\n",
        "  time_end = time.perf_counter()\n",
        "  time_interval = time_end - time_start\n",
        "  list_time += time_interval\n",
        "  std += (time_interval)**2\n",
        "\n",
        "list_time = list_time/1000      # Calculating the average time\n",
        "std = std/1000                  # Calculating the average std\n",
        "std = np.sqrt((std - list_time**2))*10**6\n",
        "list_time = list_time*(10**6)\n",
        "\n",
        "print('Average time for list of list matrix multiplication for 1000 iterations is ' + str(list_time) +' ms')\n",
        "print('The standard deviation is '+ str(std) +' ms')"
      ]
    },
    {
      "cell_type": "code",
      "execution_count": 5,
      "metadata": {
        "colab": {
          "base_uri": "https://localhost:8080/"
        },
        "id": "HDkfSxBO_SE6",
        "outputId": "fe275427-8a13-4123-bcc6-c20dc0e46601"
      },
      "outputs": [
        {
          "name": "stdout",
          "output_type": "stream",
          "text": [
            "Average time for numpy multiplication function for 1000 iterations is 27.45559999982561 ms\n",
            "The standard deviation is 161.75582885530886 ms\n"
          ]
        }
      ],
      "source": [
        "list_time = np.zeros((1000,))\n",
        "for i in range(1000):\n",
        "  time_start = time.perf_counter()\n",
        "  c = np.matmul(matrix_1,matrix_2)\n",
        "  time_end = time.perf_counter()\n",
        "  list_time[i] = time_end - time_start\n",
        "print('Average time for numpy multiplication function for 1000 iterations is ' + str(list_time.mean()*(10**6)) +' ms')\n",
        "print('The standard deviation is '+ str(list_time.std()*(10**6))+' ms')"
      ]
    },
    {
      "attachments": {},
      "cell_type": "markdown",
      "metadata": {},
      "source": [
        "*From the above result it is evident that the result obtained by using numpy 's built in method is faster than loop based approach since the numpy's approach takes advantage of hardware optimisation and its implemented in C which is way faster than python.*"
      ]
    },
    {
      "attachments": {},
      "cell_type": "markdown",
      "metadata": {
        "id": "TUHvjd_8oauY"
      },
      "source": [
        "**Q3. Finding the highest element in a list requires one pass of the array. Finding the second highest element requires 2 passes of the the array. Using this method, what is the time complexity of finding the median of the array? Can you suggest a better method? Can you implement both these methods in Python and compare against numpy.median routine in terms of time?**"
      ]
    },
    {
      "attachments": {},
      "cell_type": "markdown",
      "metadata": {
        "id": "4IjXAnmOM7n1"
      },
      "source": [
        "*Since we will be traversing the complete array $n/2$ times and each pass has a $O(n)$ time complexity, using this method would result in a $O(n^2)$ time complexity for finding the median.*\n",
        "\n",
        "*The second method has an O(nlog(n)) time complexity. In this method, the array is sorted (Best time complexity for sorting the array is  O(nlog(n)), and the median is $A[n/2+1]$ if the number of items is odd. If the number of elements is even, the median is average of $A[n/2]$ and $A[n/2 +1]$. Since each operation to find the median after sorting the array is constant time, thus time complexity is O(nlogn)*"
      ]
    },
    {
      "cell_type": "code",
      "execution_count": 86,
      "metadata": {
        "id": "_pR_-adsL168"
      },
      "outputs": [
        {
          "data": {
            "text/plain": [
              "[3, 5, 2, 4, 3, 2, 5, 6, 9, 4]"
            ]
          },
          "execution_count": 86,
          "metadata": {},
          "output_type": "execute_result"
        }
      ],
      "source": [
        "array = list(np.random.randint(low = 1, high = 10, size = (10,)))\n",
        "array"
      ]
    },
    {
      "cell_type": "code",
      "execution_count": 75,
      "metadata": {
        "id": "cHt8DAsAofVt"
      },
      "outputs": [],
      "source": [
        "## Function to find the median by the approach mentioned in the question having time complexity O(n^2)\n",
        "\n",
        "def median_array(array):\n",
        "  arr_len = len(array)\n",
        "  if(arr_len%2==0):     ## If the length of the array is even then we will consider the average of the middle two elements\n",
        "    traversals = arr_len//2\n",
        "    while(traversals>=0):\n",
        "      element = array[0]\n",
        "      for i in range(len(array)):     ## In each for loop we are removing the highest element in the array until we reach the median element\n",
        "        if(array[i]>element):\n",
        "          element = array[i]\n",
        "      array.remove(element)\n",
        "      traversals-=1\n",
        "      if(traversals==0):\n",
        "        second_last = element\n",
        "    return((element+second_last)/2)\n",
        "  else:\n",
        "    traversals = arr_len//2 -1      ## If odd then, we consider the middle most element\n",
        "    while(traversals>=0):\n",
        "      element = array[0]\n",
        "      for i in range(len(array)):\n",
        "        if(array[i]>element):\n",
        "          element = array[i]\n",
        "      array.remove(element)\n",
        "      traversals-=1\n",
        "    return element"
      ]
    },
    {
      "cell_type": "code",
      "execution_count": 87,
      "metadata": {
        "colab": {
          "base_uri": "https://localhost:8080/"
        },
        "id": "lncCHkJGLvyJ",
        "outputId": "508fd5ee-ed03-42b3-998d-b2d6db5612b9"
      },
      "outputs": [
        {
          "name": "stdout",
          "output_type": "stream",
          "text": [
            "4.0 4.0\n",
            "Since the implemented methods' result matches with the in built numpy method hence it is correctly implemented \n"
          ]
        }
      ],
      "source": [
        "median_numpy=np.median(array)       # Since the method involves removing elements from the original list hence I am calling the numpy median function before calling the implemented function so that the modified list does not get passed\n",
        "median = median_array(array)\n",
        "print(median,median_numpy)         \n",
        "print(\"Since the implemented methods' result matches with the in built numpy method hence it is correctly implemented \")"
      ]
    },
    {
      "cell_type": "code",
      "execution_count": 81,
      "metadata": {
        "id": "yV6rEfK2_YDG"
      },
      "outputs": [],
      "source": [
        "# Method - 2 O(nlogn) (This method depends on the time complexity of the sorting algorithm (The best being O(nlogn)) as finding the middle element requires constant time)\n",
        "def median_sort(array):\n",
        "  array = sorted (array)\n",
        "  arr_len = len(array)\n",
        "  if (arr_len%2==1):\n",
        "    return array[arr_len//2-1]\n",
        "  else:\n",
        "    return ((array[arr_len//2-1]+array[arr_len//2])/2)"
      ]
    },
    {
      "cell_type": "code",
      "execution_count": 82,
      "metadata": {},
      "outputs": [
        {
          "data": {
            "text/plain": [
              "[8, 1, 3, 2, 7, 3, 3, 6, 8, 2]"
            ]
          },
          "execution_count": 82,
          "metadata": {},
          "output_type": "execute_result"
        }
      ],
      "source": [
        "array = list(np.random.randint(low = 1, high = 10, size = (10,)))\n",
        "array"
      ]
    },
    {
      "cell_type": "code",
      "execution_count": 88,
      "metadata": {},
      "outputs": [
        {
          "name": "stdout",
          "output_type": "stream",
          "text": [
            "2.5 2.5\n",
            "Since the implemented methods' result matches with the in built numpy method hence it is correctly implemented \n"
          ]
        }
      ],
      "source": [
        "median = median_sort(array)\n",
        "print(median,np.median(array))\n",
        "print(\"Since the implemented methods' result matches with the in built numpy method hence it is correctly implemented \")"
      ]
    },
    {
      "cell_type": "code",
      "execution_count": 95,
      "metadata": {
        "id": "XrPZEI54_Y5z"
      },
      "outputs": [
        {
          "name": "stdout",
          "output_type": "stream",
          "text": [
            "Method-1: O(n^2)\n",
            "The mean time for it is: 813.0573999997068ms\n",
            "The std for it is: 503.7685785161688ms\n",
            "Method-2: O(nlogn)\n",
            "The mean time for it is: 61.12290000328357ms\n",
            "The std for it is: 66.20406123313116ms\n",
            "Method-3: Numpy's inbuilt\n",
            "The mean time for it is: 192.400800001451ms\n",
            "The std for it is: 176.23970246139658ms\n"
          ]
        }
      ],
      "source": [
        "# Time comparison for all the three methods\n",
        "t_1 = np.zeros((1000,))\n",
        "t_2 = np.zeros((1000,))\n",
        "t_3 = np.zeros((1000,))\n",
        "\n",
        "for i in range(1000):\n",
        "\n",
        "  np.random.seed(100)\n",
        "  array = list(np.random.randint(low = 1, high = 2000, size = (100,)))\n",
        "  st_1 = time.perf_counter()\n",
        "  value1 = median_array(array)\n",
        "  et_1 = time.perf_counter()\n",
        "  t_1[i] = et_1-st_1\n",
        "\n",
        "  np.random.seed(100)\n",
        "  array = list(np.random.randint(low = 1, high = 2000, size = (100,)))\n",
        "  st_2 = time.perf_counter()\n",
        "  value2 = median_sort(array)\n",
        "  et_2 = time.perf_counter()\n",
        "  t_2[i] = et_2-st_2\n",
        "\n",
        "  np.random.seed(100)\n",
        "  array = list(np.random.randint(low = 1, high = 2000, size = (100,)))\n",
        "  st_3 = time.perf_counter()\n",
        "  value3 = np.median(array)\n",
        "  et_3 = time.perf_counter()\n",
        "  t_3[i] = et_3-st_3\n",
        "\n",
        "print(\"Method-1: O(n^2)\")\n",
        "print(\"The mean time for it is: \"+str(t_1.mean()*(10**6))+\"ms\")\n",
        "print(\"The std for it is: \"+str(t_1.std()*(10**6))+\"ms\")\n",
        "\n",
        "print(\"Method-2: O(nlogn)\")\n",
        "print(\"The mean time for it is: \"+str(t_2.mean()*(10**6))+\"ms\")\n",
        "print(\"The std for it is: \"+str(t_2.std()*(10**6))+\"ms\")\n",
        "\n",
        "print(\"Method-3: Numpy's inbuilt\")\n",
        "print(\"The mean time for it is: \"+str(t_3.mean()*(10**6))+\"ms\")\n",
        "print(\"The std for it is: \"+str(t_3.std()*(10**6))+\"ms\")"
      ]
    },
    {
      "attachments": {},
      "cell_type": "markdown",
      "metadata": {
        "id": "k8aaA8z4HpR7"
      },
      "source": [
        "**Q4. What is the gradient of the following function with respect to x and y?**\n",
        "\n",
        "![image.png](data:image/png;base64,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)"
      ]
    },
    {
      "cell_type": "markdown",
      "metadata": {
        "id": "b-de-9W9Hvh_"
      },
      "source": [
        "Gradient with respect to x is given by: $2xy + y^3cos(x) $\n",
        "\n",
        "Gradient with respect to y is given by: $x^2 + 3y^2sin(x) $"
      ]
    },
    {
      "attachments": {},
      "cell_type": "markdown",
      "metadata": {
        "id": "aHzhSYVJJOzH"
      },
      "source": [
        "**Q5. Use JAX to confirm the gradient evaluated by your method matches the analytical solution corresponding to a few random values of x and y**"
      ]
    },
    {
      "cell_type": "code",
      "execution_count": 96,
      "metadata": {
        "id": "ZqfGsvktJUXI"
      },
      "outputs": [
        {
          "name": "stderr",
          "output_type": "stream",
          "text": [
            "WARNING:absl:No GPU/TPU found, falling back to CPU. (Set TF_CPP_MIN_LOG_LEVEL=0 and rerun for more info.)\n"
          ]
        },
        {
          "name": "stdout",
          "output_type": "stream",
          "text": [
            "Gradient of function with respect to x is: 4.566370964050293 and with respect to y is: 9.869604110717773 [Using Jax]\n",
            "Gradient of function with respect to x is: 4.566370964050293 and with respect to y is: 9.869604110717773 [By Manually putting values in the gradient obtained]\n",
            "Gradient of function with respect to x is: 9.424777030944824 and with respect to y is: 29.4674015045166 [Using Jax]\n",
            "Gradient of function with respect to x is: 9.424777030944824 and with respect to y is: 29.4674015045166 [By Manually putting values in the gradient obtained]\n",
            "Gradient of function with respect to x is: 187.83184814453125 and with respect to y is: 39.478431701660156 [Using Jax]\n",
            "Gradient of function with respect to x is: 187.83184814453125 and with respect to y is: 39.478431701660156 [By Manually putting values in the gradient obtained]\n",
            "Thus the gradient evaluated by our method matches the analytical solution\n"
          ]
        }
      ],
      "source": [
        "# The function is defined below\n",
        "def func(x_y):\n",
        "  return (x_y[0]**2)*(x_y[1]) + (x_y[1]**3)*jnp.sin(x_y[0])\n",
        "\n",
        "\n",
        "x_y1 = jnp.array([jnp.pi, 2.0])   ## Initialising values for x and y as pi and 2 respectively\n",
        "x_y2 = jnp.array([jnp.pi/2, 3.0])   ## Initialising values for x and y as pi and 2 respectively\n",
        "x_y3 = jnp.array([jnp.pi*2, 5.0])   ## Initialising values for x and y as pi and 2 respectively\n",
        "\n",
        "\n",
        "grad_x = jax.grad(lambda *args: func(jnp.array(args)), argnums=0)    # Differentiating wrt x \n",
        "grad_y = jax.grad(lambda *args: func(jnp.array(args)), argnums=1)    # Differentiating wrt y \n",
        "print(f\"Gradient of function with respect to x is: {grad_x(*x_y1)} and with respect to y is: {grad_y(*x_y1)} [Using Jax]\")\n",
        "print(f\"Gradient of function with respect to x is: {(2*x_y1[0]*x_y1[1]+(x_y1[1]**3)*(jnp.cos(x_y1[0])))} and with respect to y is: {(x_y1[0]**2+(3*(x_y1[1]**2))*(jnp.sin(x_y1[0])))} [By Manually putting values in the gradient obtained]\")\n",
        "\n",
        "print(f\"Gradient of function with respect to x is: {grad_x(*x_y2)} and with respect to y is: {grad_y(*x_y2)} [Using Jax]\")\n",
        "print(f\"Gradient of function with respect to x is: {(2*x_y2[0]*x_y2[1]+(x_y2[1]**3)*(jnp.cos(x_y2[0])))} and with respect to y is: {(x_y2[0]**2+(3*(x_y2[1]**2))*(jnp.sin(x_y2[0])))} [By Manually putting values in the gradient obtained]\")\n",
        "\n",
        "print(f\"Gradient of function with respect to x is: {grad_x(*x_y3)} and with respect to y is: {grad_y(*x_y3)} [Using Jax]\")\n",
        "print(f\"Gradient of function with respect to x is: {(2*x_y3[0]*x_y3[1]+(x_y3[1]**3)*(jnp.cos(x_y3[0])))} and with respect to y is: {(x_y3[0]**2+(3*(x_y3[1]**2))*(jnp.sin(x_y3[0])))} [By Manually putting values in the gradient obtained]\")\n",
        "\n",
        "print(\"Thus the gradient evaluated by our method matches the analytical solution\")"
      ]
    },
    {
      "attachments": {},
      "cell_type": "markdown",
      "metadata": {
        "id": "lSYrX7ElM7Ld"
      },
      "source": [
        "**Q6. Use sympy to confirm that you obtain the same gradient analytically.**"
      ]
    },
    {
      "cell_type": "code",
      "execution_count": null,
      "metadata": {
        "colab": {
          "base_uri": "https://localhost:8080/"
        },
        "id": "kUg2hqTnNAb5",
        "outputId": "0d880337-575d-46e5-817d-f73109f26885"
      },
      "outputs": [
        {
          "name": "stdout",
          "output_type": "stream",
          "text": [
            "The derivative of the expression wrt x is 2*x*y + y**3*cos(x) and wrt y is x**2 + 3*y**2*sin(x)\n",
            "The above expressions clearly matches with the original derivative expression\n"
          ]
        }
      ],
      "source": [
        "x, y = sp.symbols('x y')\n",
        "f = x**2*(y) + y**3*(sp.sin(x))     ## The given function\n",
        "print(f\"The derivative of the expression wrt x is {sp.diff(f,x)} and wrt y is {sp.diff(f,y)}\")\n",
        "print(\"The above expressions clearly matches with the original derivative expression\")"
      ]
    },
    {
      "attachments": {},
      "cell_type": "markdown",
      "metadata": {
        "id": "bmbRG6GPohkI"
      },
      "source": [
        "**Q7. Create a Python nested dictionary to represent hierarchical information. We want to store record of students and their marks. Something like:**\n",
        "\n",
        "![image.png](data:image/png;base64,iVBORw0KGgoAAAANSUhEUgAAAjUAAALmCAYAAAC6v2UZAAAAAXNSR0IArs4c6QAAAARnQU1BAACxjwv8YQUAAAAJcEhZcwAAFiUAABYlAUlSJPAAAJ6kSURBVHhe7P0BVFNnoi98//u5VnqYBdO54HgLdSbFexici+iLV4pj1KmgNkOPglVwSuM9Ai0j6jRUK1IvWFuoo7RFmFeNbys4Z6S8I9gKbWHSUeG0mrcy9IVVlK9S5oiZtqHHK3xVWGXMKivf3slDRUhCgIC4+f9ccSdPdnaeJJvsf/Z+nmffZ5OAiIiI6B73/xFTIiIionsaQw0REREpAkMNERERKQJDDRERESkCQw0REREpAkMNERERKQJDDRERESkCQw0REREpAkMNERERKQJDDRERESkCQw0REREpgufnfrJ24OLpUhQfVSH1lB7honi8dF+uQWlFJeo+bkP7DblEheDICCxbsR6J2ggETLPP5lpfD9o/PoGSkzUwNXShWypSzQjEvPkxSP5NKiJnOGZzZ8x1kN6zhupiVFTVw9TWA6tUJNdBo4lFXEI8NGpfx3xEREQ0ZsOGGmtHPcqPGlBiNNuDARCPEtM4hpq+DtTt34rM6i4pAIQh7vEQ+NnvsMLy1zMwtkjRQL0E+a+/jGWB9juGkpZh3LMRObVW+IVFIe6RQCmOSL6VQoaxHhdvqLAs5w/I17pYgBfqYL1swKat5bjYq0K4djkiA+01AL5pQ5WxBZ1y+aYCHNkQ5qgbERERjY0caob4rtN25dxRW/YzK20LFj1qWxDzLzb9wcO2/SnS9UWFtmYxm/d125oPPiE9x0rbjnc+t938ThQPcP1cri1BrtOTh22Xndx/exlP2HL/clWUDfDdVVvlDvl1PWE7fOmWKBzIC3WwnLLpYx61LfrXfNv5/xRlA3V/biu312GlLftspygkIiKisXDapqbTuBuJO0thQgT0+99A7QfvoXBLPEJ/JGYYJ9bmYmSXdSF4UwHy14TAz8nhnYDF2dj/nBowl6P0wx5ROsCXNTggLyM5G5krpPkGm6ZG3EsvQxfYhZKiSlhEcb+x16EDVa8VSe9dFPKKdkDj7DCXbwgSXspGgo8VxsMn0CqKiYiIaPSchhrVz9aj5OQHqH1jH3SLnW/Yvc+Khr/IISMG+vVhosy54KXx0EhT42dtjoIBWuuO46IUxlISIlwf1vGJQsJTUihpOQ7jHYvwQh3MZ1FxAQjdlI5lD4gyZ3yW4FdrpBp2tODyNVFGREREo+Y01PiFLEF4fxuQCdOGVikMYOEczB7uqWeoESxPr5jRaS/oZ0bzv/cA8xdirrtAIQmavxyh6MEnn3WIEtnY69D9H5fse14if+ZkL9EgQQ+HSP+34OrXjttEREQ0epOoS3cglu3ch8MpUaJRrgf8/O7cG2P9O9ovS9PZIQhylLg2MwSR0qTh6t8dt+3GXof7f74ehwv3YfXwmUbwhZ+PuEpERESjNolCjT+CI6MQGSZ6KrljbkGDNAmf9893ho9vOu1tZCJ/8qDjtjvTVFDJYcLcMWBPy9jroAqMQKS0jOBh9hTJh7ouf9ZiPxQW7nEAIiIiIlcmUajxXOtHp9CKMMRpnKcBlUdtgB5E0DxxdRSGq8OwbpyD0QgErXkc84ZNUERERDScey/UXKuE4d+6EJSUil95MIDeuBhzHay4WHEYxt4w9w2aiYiIyGP3Vqjpk7tLG2BCDDJT7lIY8EIdrM0G5B7rQvhzOxB3t4IZERGRwtxDoaYHF49sRZ7JF7qCDGjuSuNaL9ShoxKZ2yrxlUaPvDVsTENEROQt90yosVRnYVNZDzS7DkI/9+6cM2nMdehtQtH2IphmxOPIS/EImpDxf4iIiKaGeyLUWJuLkLG3BQ8l7UP+465O+DS+xlwH+bDVi1kovRaG7Nf1CGc3biIiIq+a/KFmwOGawk2etWGx9okrbn2Nq/JAe54YRR3uNPCw1T7E3Z1cRkREpGiTO9SM9HBNQKB9lN+GLzwYotfag1vyVB2IAHuBC144ZDQZDp0REREp3eQNNVKYMKSP8HDNtJ/i4fnStLEF7Y4S18yXYJImkQ//1HHbmdHUYRCLcRt0d/nQGRER0VQwOUONaH9S8mUAUkZ0uCYQsx/xBS6fwSdfiiIX2j89Bwt8seDnLhY+6jrcZm+Hk9sERI/2sBURERF5ahKGmoHtT95A+ggP14Qu24BwmFH6Tj2somyI3nOoONIBhG2AVj6n5BBjq4PdgHY4pXvY04mIiGi8jU+o6etBe3M9Wu88hbZHxtz+ZGY8nkv2h+XEbmSebBsabPrMqHoxDxW9/kjRS2FDFA/ErttERET3nvtsEnF9GB2o2p6EvAvxKDHpES5Knek0boU2twVQ61BelmpvvOsJa0sRdGmVaJ8bj/yUhfAoTvzgp5g3+ASUfR2o278VmdVd8AuLQtwjcxA62xfXGy+g1liPizdUWJbzB+Rrhx5TGnsdOmDM3Igckwra5zOxeqZnB52m/8yTk2ASERGRK+MSaqwtBqToy2GJzkbVrpg7z6TtRme1FIb2SmFoJBbqYXw93mkPps6GYhS+VQNTQxe65YIH/BH5i1gk/yYVkS5OTzD2OjShSLMNpfbrntMZ6qCfK24QERHRiI0g1BARERFNXpN7nBoiIiIiDzHUEBERkSIw1BAREZEiMNQQERGRIjDUEBERkSIw1BAREZEiMNQQERGRIjDUEBERkSIw1BAREZEiMNQQERGRIjDUEBERkSIw1BAREZEiMNQQERGRIjDUEBERkSIw1BAREZEiMNQQERGRIjDUEBERkSIw1BAREZEiMNQQERGRIjDUEBERkSIw1BAREZEiMNTQJNOBqu3LELm9Ep2ihIiIyBMMNdYOXKx+FRlrinBRFHmf2FBrXF0eg3ZjGnKOVqLB3CMeQxOp23wWpbkbkVndIUqIiOhec59NIq5PKdaOepQfNaDEaEa3vSQeJSY9wu3XvU0ONUnIu6CGNjkCQaJ0oO4r9aj9awc6e1UIXZ+Noi1LEDBN3DmliPcKehhfj0eAKB0XfV1orS2G4fAZmK5Z7UWaXWUofDzQfp2IiO4tU2tPjbQRaz9fjJy0x6BZl4WiDzsxNykRCbPF/eMuAolP65Hu5JK5twzGD6QN6jpftJ7YjfSyFvEY8jZrRxOqDm2F9rG10O2pQfOPI6BPihD3EhHRvWpKhZpO424k7iyFSQoX+v1voPaD91C4JR6hPxIz3G3TAqF5tgCZYUD7keOo45GocdAEw7ptyDtlxuw1epSc/AC1b+yDbola3E9ERPeqKRVqVD9bf3sjtjgEfpPx8M40NaLjpFSDejRfcRSRN/kjekCgDQ9UiXIiIrrXTalQ4xey5J7YiAX8JMQ+bf+CjVa9T43wyRpoiYhoTNj7aRKyfutouhwUMLiZ7KDuztfq7T12tMsdvagyjF32ub53ow2msixs3rgKmv6eVrFrsTnXAGOb62NbFw/J897uDdbZUIr8XWsRLZahWZOEzGNnYekVM7jh6FWUhsRY8fzLV0GXkYXS82Z094mZ3OnrcbSDyrj9/NFJacgpq0enJ48nIqIpg6FmEmr/rF76X43gma73Kt28bEBKkqOx8/Q5UdCticD0AbNbTu+WgkQaMkpaoJqzHLrnd+DwnlSkaEPwj4/LkbNxLXRHm+Do8+NCXwfq9q6F9oUTuOyzEAnJ8UhJjkX0jztRdzQPcalS8HEVbPq6YPp9ErRJeTA0WhGqlR8rXX69FMHfNqFopxTGthrQ6i4Y9bagZOtaJO6twa2ZS8Xzx2ABzDAeysLqFyphYbAhIqJ+cpfuqc1iq9z2qG3BokJbsyjxvhE8xxcnbPpFj9oWvXjGdlMU3SaWs3WnLfvJlbbkPzbabn4n7hrg1se5tkXSMhIKztiuO7nf9p3Fdr7gCak+K237P+4Whbc1H5TrmmMrPPiEbdGO47bLQ2exffX+FvtzrC65JEoGumVrftOxfH3F507reP1cri1Bfp07TtmuizKH/teYbyvcsdKW8Eq17ashj++W6igv/1Gb/n2LKBujTwu9uzwiIppw3FMzSVivtaHh1G7oNhrQEBKPIztj4CfuG6KxHq2afTiyIcJJ25AemIxnYUUM9FtinI91I/ey2pSBBB8rKt4542Lk3nMoNS3FkZd0CPUVRQMEPb4DGWGA5a0zQwct/LISB451IWj9y8hf57z9SsDibOx/Tg2rqRhVl0XhQI01KEc6CnfGImjI430R/oxcf8BUW8+Rh4mIyI6hZkJVIkW0Cxl80axJw+bXzkG1bh/eLdYjXNpguxaBFF0EnB+c8sWyPXVoMGVD465NtE8Y5s6XpiYzLI6SQXyhy0p3Uw815i6R0k5vG65cE0VC6+njUtBRQ/dElIs6OgRrN0ArhbCqBmdj8qiR8Wy8k0AjqKKg0UrTC67qT0REUw1DzYSSRxQWbUuGXGKhneuL1uNZSNhuQIO73Q8LlyLyAXF91PzxkNuhWZZiUZi7SAJM93e2ADOaz/cAs5djwUxR5IqvFM4K9yFb42QE3/mx0Lh9vAo/tAeubtx02zCIiIimCoaaCeV6ROH0p3cg1/AeTCd2IPpaOTb/1k0j3Amhwj+52kviTt/XsMiHk+aFINhR4oY/giOjEDnLX9weQKXC/eKqe1/j+jfiKhERTWkMNZPNzFhk/y4V4eZKbDpyzn3vpOHIXbpPvYqcjKTbXaoHXFLKxHze1NmBdnk6zf1eHiIiIm9jqJmM1PHYsAKwnvwQDaNKNT1oLUtDtNyl+80LuDUzBk/t2ofDhXde9NFidiIiIgVgqJmUfDH9x/J0dIdWLNVZSDlkxsObClD73tvIfz4VcYujECkf6hlwmfegeIA3BQQ6Djv1saELERFNLIYapelrQsWBFlij9Shy2uV7nE17EEHyWc/b2CuJiIgmFkPNpNSBK/aTWT6I6SM9g3inGe29gGahFGhEkXM9uHlDXPUqNeYu9gUaP0LDoK7eQ/TVo0hu33OoSRQQERGNHkPNJGRtLsdbFwDVul8icqTtbcWemYbP/+a2kbG1uRhF1eKGl4Wu2IBwtKDkT/Xu69BwGuVQIeER+azkREREY8NQMxLyyRWb69E6jkPYdreVInNbJdp9wpD56yVuB69zKmAptNFyI+NCFF4YdIJLmfQaWqt3Q5deg6/s47xY8Q9vnz9pZjyeS/aH5cRuZJ5sc3riyu4WAzZlnwU06dDNZ08pIiIaO4aaEeg8nYXE9Czoflvs6LY8Yk0oP1oEg9NLHjKTHkP0xmKYVBHIfGMf4pyMSTc8f2g3ZyNO3YWK7WsRnZaFov7neG0bEletgm5vPR5+/iDy18jzm2HxekhTITz533A4OQANB9KgXbcV+UeLUXX+LKrKXkVO+ipo08pxdY4OJS+5GTWYiIhoBBhqRsDvJ2EI9ZGmcx7GdFE2MmYYj1WixNnlT/WwzIhAyq4CGN8rQMIsJydc8lRgDLKPl+HwlijM7mlCqf05alB1qQehumyU13wgBZoQzH5YPuzTgtYr49BTaZovIp8ug7EsG+nzrfjknVLk7cxDXslHaP8vUcgoLENtYar9/SQiIvKG++SzWorrRERERPcs7qkhIiIiRWCoISIiIkVgqCEiIiJFYKghIiIiRWCoISIiIkVgqCEiIiJFYKghIiIiRWCoISIiIkVgqCEiIiJFYKghIiIiRWCoISIiIkVgqCEiIiJFYKghIiIiRWCoISIiIkVgqCEiIiJFYKghIiIiRWCoISIiIkVgqCEiIiJFYKghIiIiRWCoISIiIkVgqCHF6KzeikjNMhQ1i4IBLh5aJt23FVXXRAENr7nI5ftJRFPUtUpkSN8LGdUdomByYahRKmsHLla/iow1RbgoiryvA1Xb5bDg5hK7Frpdeag434buPvGwe0b/61uFosYeUeYZhqh7k7WjCVWHtkJ7tEmUeJkIipHby2EZyd+D2JBEHhqneinVZHm/++shfZeUXBZlo2BtyIPGvhz+2HCFoUZhrB31KM3diOhlSUjZWwPThGxU1dAmxyPF2UUbAtVn55C/Mw3Rq7ah4srIwsHk0IPS14pxsVfcJGXps8LSUIyctMegWbcNeWUt6Lwl7hsvF4qRb5ycv3QVadK83z0o/vM5WMWtkelC7btnR/nYqYOhRgn6utB+vv9LOQtFH3ZiblIiEmaL+8ddBBKf1iPd2eXZfSg59QGMhfEItzYhPy0LVffid7m5ErklTfxCUZIbbTCVZSFl1WOIyyhF7f8OgW5TDELF3ePLCtOBV+7Nv4V70uR4v1U+KlhPnkLtDVEwEl+eQXktEBToKwrIGYYaBeg07kbizlKYpHCh3/8Gaj94D4Vb4hH6IzHDJBAQqUfJwUQE97Yg73ANukX5vSEC2hUqtJflobiFsUYZOlD1choy5MMLv9ChsOxtmE4dhP6xOZgu5hhPkSui7H8L+Qcq0SnKaPxMlvc78al4BKEJtX/tEiWeszTU4KK8V1wbJkrIGYYaBVD9bD1KTn6A2jf2Qbc4BH7TxB2Tzez1SImWprUf4ZN76iiUGonPZULr04WSVwy4yFyjAH6YnVCAqroPUJKTCo3aX5RPDJUU8nM3+cNqMiCXh6HG3aR5v/9HLHRSJqmrOAOLKPJIXwuMb5mB6EREB96Lh/AnDkONAviFLEF4oErcmsz8MTcyRJrWo/mKo+Se8UAMMp4Pg0o+DHWiRRTSZGD9sgkNl0e6ofJF6MIIBN3FP5vQ9dlIUVtheq0IdaM5HDGV9HWhtaEJ7WPYnk+O91sNbUIE0HIcxhE0GLY2nkJxhwoJq5dPyJ7ESanXjIsNLegcpsE3Qw1NqPunebAVuSH9Kjmahc1Jj4keA49BuzENOWVnx/SlNlYB2v+FHI0K7Ud2o6RNFI5YE4rk17R9+N3gjh5Ug3uviR5Z/Y/v60HraQNy0ld93ysiOkl+r+rv/OPvbwybsRbRYj7NmiRkHqpBq4fvaedYHt/n6I2XubG/nvJnug1F1U0uv6TueP09bTAe2obEWPHc/b2Tes4iX1rO5tSNMNxrWVMVgdT/FY/g3npkHzg75kOy3eazKM1Ng25N/9+NWBeOuvuM7s761F/X/s9T7iW5ObcYJrPzB7efeAa6DOnzf3kMh4+8/H6Plt8jy7FsRA2GRQPhwHjEzffg+1P+bJorUbQr6fb7K/7e8k8N+hwHGtRV2/73/v16sBXGEbzx1iulyFgurRMbi9Dg7CO9Jvcy3OZkXa3ERaedW3pQdyANKRlbsfqY+x5pDDU0oa53maX/AxH0gOP2YJbTu6U/xK3I+VML/vHz5aIXVSyigzphOpSHxPg0lLR4shUdD4HQPp8OjU8XDK+Won2YXwzj6lMzLL0tKNm6FroD9YD0XunEe6XxNUsBIAvaDVIgkHts9bahYs8qxGWU46uAhUgQPdPifn4Ln5S9Cl38VvcNKL/rQN3etdC+UHnn40O6YRKPd9urreMs8jbIvfHO4GpQ1Pf1jJ7RhvK927A69VWY3Hxh/kN+fJq8YZVSS2AEEtZHYd4PxJe7z4N4eKZ0/YEwBP/YUXQvUYWlIyfZH9bT+TBcGOV63Sd93tLnE52UB0OjCnMfj0Xmnn3IfV7+jK0wHZM/oyQYmt0sf8LWJyk0HU+D1l5XK0K1jsfKvST/8bG0IUxai8xTbUM29tMfCoMfVAj9uVqajp5X3u8xaLd0SevqciSsG0GD4f4Gwo8vRehwTQt6mqTPUPps0otQdf2n0DyhQ/b+bGRvcfy9Vb0mfY6rtsH9ETjHZ7Rabjz/tR/maWOR8Et/3C/uHY4caDLTitEwMx5HDHpEDmrXbKmVvuPXbEOe9DlP18Q6Pn/7+iOvq0VIWbMWebWDK+iLoIcDpDVABY36QVHmgo0UymKr3PaobcGiQluzKPG+ET7Hd5dsxWul+dcetl3+TpQN8NX7W2yLFj1qW5Z9wna5WxQO9J9nbIX/ulJ6vidshZ8OneG69PgF0uMLPxUFAzQflOu5xVb5n6LAI85fX389kyuuipKhXD9fo61QeuyCbads10WJK45lDH5v++u0xabfsdKWUPCR7bqz97LKUcfVJdW2Smm+RTuOO31Pb31aaEuQ6/PMCdtXoux70n3y+5nw5BOuH/8fx236GOnxa/Ntf/1WFA70n6cc9z+ZY/vzF6JsgJuXDtuS5fufOW67Muh1OF7/c7bsF6XX+Uq17cotccd4kusrvx8HG0WBl4n3VP++RRRIvpXWiSel54zJtZ139h7KXNar23b+VcffxP5zA5Y5kPR3s9/l8idwfbLdsjW/+YT0XCttyX9stN0c/DzfXbX9+RXH/fs/dvYFMApef79HaXA9PjtsWy3dTn7H9XdIv8sl/yI99l9t5eLvx+X3nPT+lT8jv64ttvLPnb9/Nz8Xf69O/t76X3P6izttCTHP2Io/7RR3DCLmu+M9FW5Jr0v+e170r9L3lrP39vPD9vVj0Q5p/XCyntmuf+RYV6X1ufhzUTZC3FNDE6QHF4/shqFDBe3m9UN/cdw4C8OBFljDUlG8JxGhznotzoiB3vAydIFdKN13HK13aU9JkPZ/IXMhcPHAi6iQdzzdFS1oQDoMzy1BgJNfb0GP65E+W/pVdPRV5H0ZiyMv6Zy+p6q5euQkqaTFVcLk4rW0YymO5Ll4/Cwd8vNioOqowavSL687daHusAGm3jBkv/4ytDNF8QB+0i/nV+W2Si3FMNQ66xHShNpv01G4MxbBHux5vyf5RCD9+VgE9Z5F5qERjmHSUw/jKekRazKQsThQFA4i/d1kPCt9RtLyKz501etmAtantmLkHutC0PqXcWRDxNAODdPU0D7vaPdS8do4/n2P5f32ltmOBsMX36px/zqt51D1Vo+9gbCzv587XKlBaQsQumkHEkKcfYHK7S910G9Su23T03C6DZqCAqTMHVnjeetlAzZtLcfFGY49NOE+4o4BWi/USN8ngcjYkoggZ3udApYg83epCJe+O4o/HN3Ahww1NL76rOg0n0VJxlqklPUgNHkfcqKH/rG0vlsIY68v0rfpEOxsZe/nE4WU30QA5nKUfjjxu4/tpgUiTj4MBTPyfz/CkUq9Ri19McQjQNwaYloI5s13XF2WvMHpF0y/0P+xRPq/AxYXh4DiNktfMm4ChWrhBmRIG7z2d86gVZTZfXkGx09bEfR0OuJcbG9lASvSkSrdX2f8yEl7CV+kpsQ7/wJUENX8dGSv94X1VD4MIxm92jcGuaY6NDy/BO4ynypkDiKlqek/XKXw8V6frGh4v1LaoEmB4l+jXNdVFQFdsvT33VEJ4zi2kRr1++01osHwMK+z+8NTqOh1NBAe9rBbSDqqpHWhdJ0UWtwI/nmE9P5b0XrVxTGo6FQp0DgPRa4MDDQlxc4Djcx6U36v/aFys/5AvQQbkuOhk1bG0bR7YqghL6hEimjsNeSy9DHH8fPP1Ugv/ANKn5b/oAYzo/nfpZV99nos82DAQL9frkGCNDU23sXB8AIToX9O+vK4YED+XTkHSgRmu//uQtDD8ngWIdDMcf+LS/UDx9dle4fz1+H3w+G+4NSY+6g0T0cLLg9o5Nd+oRIXpVASt3iYcTWmhSF8qTS9cAmXh3ygyxE5YYNI3k2+iHwmEwk+PSjda0CDt0evDlAjWFx1bpzXJ2s96k5KH+6Kx6Fx0Z6un9+chVIAk0LQ5+O5G3Sc328P2L/HfKwoP+tqb1EXTB81Sd818Z41EPbUj9X2gOuKZmHEiNoteRpoZA//PEr6vwV1rnYL26mxTB64dc3I6tGPoYa8wPVpEhzjREUg9/9+AymRLn6u9/wNzfKu0Hkhw3zxCqp/Rqj8q/EzM75ylNwVwWteQqb0+ky/n8wjw0pfhhOwl2O6v7xFbMHVrx235cONVy/Jb8pShM9ylLgz67/JK8rXuP6N4/aU5LMEGf2H8ibt6NWjXJ/Ml2CSJpHz//vwG6rAEPuozq3/OfIB6kbkbr/fqiWIe8rXdYNh0UA4/KnY4RsI3yX2RsFyoPlRLA4PE2hkfr/UIzdaBdNrGxGd8Sqqms3o9vIbz1BDXuD6NAm5OxKloNIEQ6mbL41vux27GT3p7t1PnvVyp7TpvIumqZHwv1IRzpFhEfATefyhgbpx0/6h1mDzUid78AZdtHvvtf7Y40O1MAP5a0Y3erXcTbri91nYnHq7m/XtyzaUivnuil6rfbC5hv1Jg+rl7DJxdR3L++0NoSs2IFz6fiyvHbrnovX0cVyUv1ujh9mFNpjo0l362jbovh9CYcBlTZE9YI6V9T/K7b2cTPJero4L+H/aPPg2nhYI7Z63UbonFnPNZ5CXLp+n8HZ37gbz2IMsQw2Nr5AN0EtfGpayIlSN597ku0Wtw06ODAt852KDEBj2fZff4S9LMesH4nFTli80z4xw9GopVJdmPObo0n3BiodjNiC3cB8O33FJxTIx+90U3t+F25PLMIe5vGMU77c3zVwuhRYnDYZFA2HVujWIHuZw3R3k4Q9S5S7dBpT+hwqRcekoHLwuSIHCG+c3azghhZCZ8Sg5VQCdugul2zw8r980XynM7UDhqQ9gevcNlOxJRcJ8X7S+U4TNSWuh2bgbxi/FvKPAUEPjTPrS+LXcmt2MwmMuBrz6gd/Ij53KXz6zA6Sl332hSS8j3T5S6SswTshZ0Sefzo7BifV+3C/vMu8Iwa+c7MFzfklE+GT4QO+2B2KQuSvKMXr1H4c5LNLXgaoXt6HokhrphrdRW1aAzKR4aCKjEHnHJQwPiYfcFdK6IO9c/eH8RCefu4vLL0e4h2K0RvJ+e50/olfLh8AqUdV4+5kdDYR9kfor9w3A79DbhKLteaiyRiG37D0YDfukH5Sxg9YD6TIvxCujEqvmJqJE7uU0IwL61/XQoAV52w0j6rWmCghB+Aod0p8vQPl7H6CqMBHzrp1DzsZhxs5yg6GGxp+U5p9L8oX1dCFKmp18Zfj+M+bKjUEbW9DuKHHP+je0NkrTn6vv7hd1v2lh0NlHKm1B7uHhRip9EA+LXiRKYumQu3OH4eHvx8XyR7A9oXTg+l09Rnhv8ovWO0avPpaHUnejV7eUI99kxbKd+0bcBXdCqedAPu1be9c4t5MZJY/f73Ggmr8GqYFWVLx7Rnx3mGGsaJL+nDZAO4JG8p21xSg1+yJ998vQqkdwKH+UIv8lHqH9bWgC4x1DO5jLkXNklMFwmgpBkek4bBCH9P80uu72DDU0AVQI12VAK/c0OFjuZCReNeYuljaAl0+gzoPzodh/xUhT7XxnPanujoEjleY7HW9lALnSZmlj77jlghU370KPDKe+E1OXWtBglL5+AsMwe4YokoRGxiII9aj6cAoflhu1AaNXv+j612/nF/Lou2HQzBsm0PR2DRO2x5lvBDRSqrFUnZmkJ4T17P0eF9KPIu1TaqC23HHY5bJjvJllCculvx/PWa7K7dI86C3Y0znMd8/oyO2TjiT5o70sC5nOeoT2NKHiaBFKLwzzfaBegl9Jr8H6Zeeo1lmGGpoYD8QgRQz6VOJkALDQx1OlL5QeGN4cZtyX3nqU/F+Obo6JchCaNKTg9lQ2dGorjHsP488uhz8PxOz/Q6p3xzk0uDupp/SLp/iUuH6Xlb7l/jOxXpBPtid6aYgyu9nxSFkImA540Dvsyxa0T5YQN1nMiEfmc/JJVMux/61Lzn+12nvFtKHV7C4p9OBiyWFUiVt3hz+iE+IR1FGJ3DeHO6TWhda2u7BHx5P3e5wEST8A5EP0VRekHwh/roQFEYh+ZIR73u6Xfy014bK79ijy4coj5XeOJ+U1vgjfdBDZGulvfu9WFA0+LYeqB+1/qkRRyTn3Zyi3/h3t8tFsP/nEGCPHUEPSii6tbM31aB3n7jvBq/XQBUob/cPHh/5a6/9CuWCAbk+58w3ctbMoSt+N0g5/6Ha7HxDurhgwUmlFtShzInRhLILRAYP05eIsLHS3VSLvheJBJ7K8i6TPJGN/pdMTFXa3lSIz+yys6ng8px3cBkIepLD/WPtuVLnoHdHdYkDKxq3Y+aeWUW1IRneW7rHqQt3+JOhSx/dz+n706lNn0SDKBgr4RSyWSe9axYF85+fP6mlD1d5/RcqpHscGom8iN9V3Us1NRZ74Jb/pqIsTK8rnsdr/DHTpeXeeQNELZ+n2xHDv97h97qLBcOufduPVauvIGwhLwhdLoVFuu/j7Uhffn/UwbN2IvEbHzmLreOyNkgcmfWmfaDicd+fZ0OUu7P8qBbWWYmQfb0K308+/A6ZDhfYBB7VLB41Tw7N0k6c6T2chMT0Lut8We9amZbRUEY7RgKVfawfeHdoVKujxg6jYswTTaw1IXLUKGa8VobT6LIynilCUuxHRa/JQ+mUAdK+/Cf0IR7ycKP0jlboVsgE5yYHSzxkD4lZtRM7vi2A4Kl9etZ8VV7uxCLX/TS8tR8x/l+n2vAzN51LYjF+FlNxXRV2LkJ8p17UYJulzzX3dxRgVgfEo/MMOxOEc8jauhTYzD4aySpjOV6L0aB4ykx5DdFolrCuyUfg/pVArHuaxu3aW7lu4ea0DrZfHeSv7/ejVLjwQi4zcJQg2n0XG6sfu/Hx2rUX0Y2nIO69G5huZSJTnN3fcxaEH5F/y/4aSTWq0HpNPrOhY9ytOy6d6cPyNax+Tys4HQH/wZWgHDG/slbN0e2K493vcPvf+BsNdUiAZYQPhfrM3IH9TiPS9Uvz99+fA7xXNmiyU9i5HYVGqffC9hi++H1TKu6Qfd46Gw/XIfqXyjh9uoUlvonB9AFqPbEO0+Pzl73hTdTEMv89CyqokZJx0NvI8z9JNI+D3kzB7gy+/OQ97pVW8O37RqUiXftBfPGK4M8ULQSteRvmpAmSvCcH1xhoU7c1Dzms1+PN/+NvPC1NeWQb9wkncIFL64o58Jhs6N6cFsH+5P12Gdwt10P6sG6YTlSg5Jl3euYD2/xKFjMIy1ObGY9akGHBLBVXQEuiL/4CS52LxUOcFVMh1lS5VbX7QJO1AaXkBtO5e78xY6ZeZPDZFPCKtTag4VISMndJG7J0m9Pw8HrnF/zdKd8aM7lQI9/hZuj0SmIjMna5HZQ6Klv9m9kGvVaPn4xrHuvSnM2j+NgQp+99A7XsFSJj13/HwQmlmp6M2T6Bp0rq/4Q3UndyHTGmj1V5Xg/w9Wd//jUdv2Yeqyjegm33nDwNvnaXbI8O83+PF0WBYujLCBsK3+SJUem+N0o8I3SN+uGwc+L2yFJmGMtQV74BmdgiC5R8gnnbMGA3px0zO8/LIpNLf+sCGw9P8oXm2DMay7O8/f/k7PmNvKUrr/o7p0vahsEz6rhgy8rznZ+m+Tz6rpbhOREQe6UDVb5OQp9LD+LqbcyaRwvBzn+y4p4aIaKRuNMHUCIT+IoIbtqmEn/ukx1BDRDQiVlwsNaDOJwqpKyZogDiaBPi53wsYaoiIRsLaiZt9aqQUZGPZCHuo0D2Mn/s9gW1qiIiISBG4p4aIiIgUgaGGiIiIFIGhhoiIiBSBoYaIiIgUgaGGiIiIFIGhhoiIiBSBoYaIiIgUgaGGiIiIFIGhhoiIiBSBoYaIiIgUgaGGiIiIFIGhhoiIiBSBoYaIiIgUgaGGiIiIFIGhhoiIiBSBoYaIiIgUgaGGiIiIFIGhhkjROlC1fRkit1eiU5QQja8mFGkmcp3jOk633WeTiOtEk5+1AxdPl6L4qAqpp/QIF8XeJX9JJiHvgnQ1egdqc2Ph57hjhMyoSNuI/Bbp6kI9jK/HI8BxxwQSrwV36/m9x9rRhD+/UwzD/akwPh0hSofR14P2j0+g5GQNTA1d6JaKVDMCMW9+DJJ/k4rIGY7Z3LrWhKqK46g404LWa1apQIXg2WHQ/DodKdEh8JvmmM0bOqu3QrtXXmFGIKkADVs8fD8mhBxqtqHU2Trf14HWFiuCwtRefN/uwjreXITI9EpxYwRcfVbeWE/JjqGG7gnWjnqUHzWgxGi2/8ED8SgxTUCogRqZJ/6AhJn2O0bmsgFxqeWwyNcZakanzwpL43EY3iyHUdoY2nm6EZc2oMY9G5FTa4VfWBTiHgmU4ojk2w40GOtx8YYKy3L+gHxtoH12Z6zSxitlWyVa4QuNdjlCf+Qo7/78DKpMPUBIPI4YpPXQx1E+Vv2hJlwbj0jX1bqTVIf0X6rFjcnAVajpQd3etcistiL8+T+gZI236nwX1vEvz8JgvCRueODLepSc7sCyPW8jf4W/KBS8sJ7SAHKoIZqUvuu0XTl31Jb9zErbgkWP2hbE/ItNf/CwbX+KdH1Roa1ZzOZ9FlvlNvn5VtoWSc+7uuSSKB+JW7a/Fsj1/hfb6rXSsradsl0X93jT9fe32N+bwk9FwRDitYzT84+bbz63nX9rpy35V/Jn/ahtUfwWW+Efc21PyevBwUYxkzvdtuaDT0iPfcKW+5eromyA767aKnfIn88TtsOXbonCQSynbPoY6bk3HbY1d4uyAW7+v4W2BLluO7z33g7/ed4LGm2F8ufkZJ27/NaT0t+Um/d8VCb7Oi6+C9Yetl3+ThR9zwvrKd2BbWpo0uo07kbizlKYEAH9/jdQ+8F7KNwS//2v5XE3Lx6p0YCl+iO09okyT1nrUSf9IlWtWw5pETQi0i/vl9OQcagJ+IUOhWVvw3TqIPSPzcF0McewvqzBgbIuBCdnI3OFkz0C09SIe+ll6AK7UFJU6dibdgcrGv5kkNa9MOS8lI5wX1E8gN98PQp3hsFqMqC4QexFIrdCk8pgMr2N9DD7voip4cYZVJy0IvypWIQOPuQ25vWUBmOooUlL9bP1KDn5AWrf2AfdYu+2XfBMIJatjoGqoxJVjSPbaHV/eAoVvb5I/dVCeRtNI+KH2QkFqKr7ACU5qdCoB+2u90Br3XFclMJwSkKEY1e+Mz5RSHhK2pC0HIexTZT16zmHd6UNUdBT6dC6ac8QpF2PBB8rKqrPicOiRHdqP12OOmldTIweGlrGvJ7SEAw1NGn5hSxBeODd/UX3w/lrkBoobbTePTOCjZYZxoomIGwDtLOn0C9SJ6xfNqHh8khTnS9CF0YgaNRvnRnN/94DzF+IuQ+IIheC5i9HKHrwyWd31tF66WMYpWn0vDBHgSuqKGi00vR0Iy6PdG8eTRqjW089YD2HiiNmqNatQfSQdXHs6ykNxVBD5M60MGge9wVqy2H8UpQN53INSluAZQnLESSK3LrRBlNZFjZvXAWN3BVWvsSuxeZcg/TLTPrSG0zueSHm6+8pU5ouHidf5MM2rsi9LM4XIydjLaLF/NFJacgpq0fnMBvlzuZKFO1KgnZ5/3M9hsSMLBiqm5w/tucs8jduw+bUjTCMsEPPmFj/jvbL0nR2yPDv/8wQREqThqt/d9wWvvry/yv9H4aHh20grkLwz0KkaRss1xwld5fcaFb6bPq7N0ufd+tpA3LSb69b8uedf8rFZzZQTxuMh7ZBt+Yxx+e9fBV0u/JQ0SA2rGI9LGp23PSE3BDa7WOcrJ/fP+95M7o9CY4jXcfHcT29vcd2ydA9MV5YT2kohhoiVz41249hh67YgHDpV1XpaU++8axo+LN87DsC0Y8Mf9jEcno3EmPTkFHSAtWc5dA9vwOH96QiRRuCf3xcjpyNa6E72iQtdQB1LA4X7rNfctc7ekQse9Zx2375lZNj87LeFpRsXYvEvTW4NXMpEpLjkZIcgwXynqVDWVj9glRvZ1/6fR32Xiva9CKUf+aP6F/Lj5Mv0q/Hb5tQsncbtBt2o27wj0ifB6VQIH2VPxCG4B+LsonwTaf9c4v8yYOO2+5MU0El91wyd9wxxknPf8ovRo0gD7rS3K+SN1dtuPq/HbcnDfF56w6cwa3/Jq1b4vOe22tGxWvbXH/eEuuVUmTEy0GgBddDljg+718vR6TP32DISJLWobOwfCdm9pb+9VNuR/dtCOLs9ZWfNwrTPzuH/J0bod1qQGuvmN+Z0azj47aeij220elImC2KBvLCekpOiAbDRPcI0dNhIno/ff8cnbY/Z0u3Y3Jtfx2uA8I31bYdco+Ygo9sjlld9wS59XGuvXdVQsEZ2/UhvSIk31ls5wvknhErbfs/dtL9RuJx76et+bbCHSttCa9U275y2QPjUZv+fYsou+3yHx110Fc56Z0huS69DrkX0IInnfXu8KL/PGXTy88zXO8nMZ+z1zKU854zzQelMk/XsU8Lh/kMPDf23k+DPm+n69btz3vHXzpF2QDffmTbHyMtI2aLrfw/nKx33Z/byuVlP+lYxtC6ul7nXb++Tlvti45ePoX/r7N1vdt2pWKL/e9l0YtnbDdFqcPY1/HxcOuv8t+39Lfr6kvDC+spDcU9NUTD8ke03GC49ywqPuwSZc5ZauVGgS52N9+hBybjWVgRA/2WGAQ4awQ9LRCaTRmOhqjvnBnbL7TGGpQjHYU7YxE05Ll8Ef6M/DyAqbZ+0PO0wFQlvebZG6Bf7XwPUMDCbOx/TrrPXIlaeXc63X39n/ezztat25933emPhqxXrX/KR0WvCgl5+5Awy0m3L98QJLy0Dxq4/1sYkZ4m1J62AmsykD7fyXNKdQ5etw/5a1Swnj4Fk7M/hlGv4+OhC7XvSn/fgfGIm+/+m4C8i6GGyAMqe4NhaSNgHLoR+F5fC4xvmUUDYVHmki+W7alDgykbGnffeT5hmDtfmpoch8JGT42MZ+OdfNkL/Q1eLwx+Hiu65SMxP/LFDx0FTgUv3ICU5FhM73PSBohG7I42Um4urtuzhCHzeXefdwQiF0vTwetVX5O0DkufoRRiExY6CxeCTwQSfi23JfKSb7sdDfF9fN38GPDF3JWp0noWgvudHoIa7To+Dr48g/JaOO/GTeOKoYbIE9PCoJW7VV6oRK2rBsNtH6FKCgAeNxD2iD8ectFEZkTmx0LjttGrCj+Uj9lLm5abdzTgCcHcFdLkwhnXr1s2MwbpT+uRMNfNhpA8Jo8o7Gi35P4y11WzrflLhxla3xfTnbUf+bIFDVJgCHo0AsGiyJX7p3lxD8QMaT2Tm4fVnUGDm1zsNzfRvp4tc7Yuj3od9zYrLlYdx0WfKGxw0o2bxhdDDZGHgqITscxlg2HRQNgnBgm/HPm4KuNOpcL94qp7X+P6N+KqnS+W/UbaiDzQgvz1j2HzoUpc/LIHVk96odCozYvT2zfew12cbtxlHn/eg9zoRKs0meuVJD0SYdDtjkfoNzXYHJ+EnLKzaLefZ2sERr2Oe9mNMzhe1oOgpzZIfzeijCYMQw2Rpx5YjoR1KljeOoUhA8iKUUODnlqDyJH+gJW7dJ96FTlyr5LYoYcYUsrEfHdLYDzyy99AblIIrpwqQsr6VdAs7e/OXY/2G2I+uud1fuEY3W369Inf46aaq0dp2T7of6mC6VAeEuWu5P3duaUfEpZx3bviPY52dWroVgwzxhGNC4YaIo+pEPmreAQ5aTA8ui+yHrSWpSFa7tL95gXcmhmDp3YN6JotLvrJcJ4F3xBotxyE8YMPYCwrQO7zsVjwgzZU7M2Sgthj0O2vcdk9+G7xbG/S17hqP3GpM1b8w4Nl9AcBRbjb7T9mREGX8wfUfvQBqoqzkZ2yFMH/v3oU7tmKuGWPYXNZk2dj1dwt/e3qohOhHXaMI4exr6c0EEMN0UjMjoVOyi11FWduNzYcxReZzFKdhZRDZjy8qQC1772N/OdTEbc4CpGRd17meTCMxYSZpkKAOgLaNXpk7n0btXVlOPy0GpZ3X0WCm3FPJlRAoL09SMMXXztuu2PtwS15qg684+zOAT+RG8GaYfGgm8zNXjnghuDhiRyLZ5wEBDka/9769i7vFpHWs6DZMYhL2oFcw3sw1RxE9uoAfHpoG1KPDBq3aRLpri2GoUOFhNXL4SfKXPLCekpDMdQQjYga2oQIx3lYRPdla+MpFHv6RdavrwkVB1pgjdajaEPEXTivlZeoAhGZ/AaKn1PbT+xYOsJzZI2LaT/Fw3KPscYWtDtKXDNfgkmaRD78U8dtIWimvHFvQeuV4V5PD65ekruHhSDIbcPce8QDAQiVJs1fDh5J8S57IAxxO9+wd+luLytClaeje08oMdie2sNu3F5YT2kohhqiEfL75Rok+PSg+M/npF+MoxyPotOM9l5As1AKNKLIuR7cvIttVrqby2E4WgzTMKcACI6Uz01jheXa+I8AMrxAzH7EF7h8Bp8Ms/Fr//QcLPDFgp87Rmb+3s/mQ+79W/Vxvfu9AtYmNJyWpivmY7YSuu7OjEC09Fa0/qV+/Ls9D2D5sEhazyrR6vbN9kXk4iXS1AyLF4fI8Zr+06Mkr/ewG7cX1lMagqGGaKRUUVj2uArWkx+ioc0xHkXQ40tHNh6FmLfh87+53Wham4tRVC1uOOE4TCLx9pD1wv23PkfpsVIUm8yixDnrtav2X5t+Ph7vqxpXocvEqS3ecRNKeuWTDXY4xhUaPOSK7xKsXid/xifwZzc7LdrfLUYFVEh4fInne+kmM/lcZ3H+QEsxSi+46Vvd14Kqt7x4oqSuJpQcM6DqU7epBtc7/ib97yutZ47bk0cX6v408t6PY15PaQiGGlIu+cR2zfVo9frOA9FgGGdR9OIJXBxNT4eApdBGS2HgZCEKLzj52SmfiLB6N3TpNfjK/gXuotGqj8o+Jk7tp14+E59gH3RQDVw89ApKWlxs5K6dReGBs7D6RCH6f9zZa2bczn48nJnxeC7ZH5YTu5F5sm3oBqPPjKoX81DR648UvfxZDiZ9xk+lQ+PTgrzteU5HsO1uLMLOA2aoNOlIHdLlrQWlqUn2BtSTYd/VSISuy4ZObUVFdhYqnJ1QtacNFS9sg8F9zh2RoGhpgy2PnH0gz+WJY7vbSpF/SHpSdSw0s0Shl4x5Pf3yDI6fHkXvxzGvp8Po60BrQ8vQE3m6Kr/WgoZmD08cOkkx1JBidZ7OQmJ6FnS/LR7+mPVIiQbD7WYpkIywgbCDP7SbsxGn7kLF9rWITstC0VF5F7x0eW0bEletgm5vPR5+/iDy18jzu2i0GuKoh+XoNuj2vOp4/Kkmx+is3iD9ck/5P1+GbqYZhrRVop7FqDp/FlVlRSjK3YjoNdKX7rVApBRk3zkux906S7edCuHJ0nv3uC9MB9Kgtde7FMbzlSj9fRZSVm1EnglYlnMQ6WEutkIz4pF/MBHhUmjLWL8KGa8VobT6LIynipCfuQra31biq5B4HHkp3knjTSs6pY1k60jHWhE+rRLrgicXb37eMp8I6F/XY5mqRfr81kKbmff9c8mftzY+DYb703H4+REGeXceiEHOG+lY9s055Kx/TDyn9Hk11KBCel77+72xGCZVBHJfT/fuKL1eWE9bTx8f3Y8bb6ynblw8thG6jK1Y/Xv5UPltzstbULJ5Kzanb0T+h2720k1yDDWkWH4/CUOojzSd8zCmizLvEQ2G5UMPI2kgPFBgDLKPl+HwlijM7mlC6bFKlByrQdWlHoTqslFe84EUaEIw+2H5i9JVo1U1En63D+m/9IXldI30+EpUfNox9BffWAQsgb74bZTvT4V2+t/x5z+VIm9nHvIO1eDP/yGFs+elulaWIX3waMJ36yzd/aYFYtmut2Es1EHzgzZUHStGzk5pw2xswz/9QofDp6T3V+u+jYJqdjpKKt9ArvQ5XDfVoGhvHnJeq0HttRAk7nkDxmI9wsfhUMhFo7wueHg5b/bu5y2zj030BxQ+HYbpbefEc9XA1PmgFJ7/gKo98Zg18m2sW6pZich/rwwlu+IRaW1Chfx5ZbyKfOl5P7GGQberAMb3CjDMRzZyY11Pe8+h6q0eqNakIm7EP24kXlhPXQlSh0nfTSpE/vyfpf9vc14eiGC5XaCPNP2vXv5wJ9B98lktxXUiIvKGvnoULc1CaVIBGrbI4Vd5Oqu3Qru3DSlvfIB0L+60IRoL7qkhIvK2tkbUSpOE/6HUrb0Vlz+Tj9VEYDZPb0STCEMNEZFXdaDqzXJY1ImIG/E5MyaBvg7UVQ8zwN21GlScAlQrVmDBxJ9RgcglhhoiIm/q6UK3XxSyvd2gdYJYL1fCsDcLKb8/O7R3jKynHoZMA0wIQ+ZvYpTRlZ0Ug21qiIjoDp0XXoU+uwat8IVGuxyaeQvh13MBrZeaUGU0o9tH7u32xtDG4UR3GUMNEREN1WOG6fRxVFXVw9TWYz8c5acOgeZf1iNldQyCmWdoEmKoISIiIkVgmxoiIiJSBIYaIiIiUgSGGiIiIlIEhhoiIiJSBIYaIiIiUgSGGiIiIlIEhhoiIiJSBIYaIiIiUgSGGiIiIlIEhhoiIiJSBIYaIiIiUgSGGiIiIlIEhhoiIiJSBIYaIiIiUgSGGiIiIlIEhhoiIiJSBIYaIiIiUgSGGiIiIlIEhhoiIiJSBIYaIiIiUgSGGiIiIlIEhhoiIiJSBIYaIiIiUgSGGiIiIlIEhhoiIiJSBIYaIiIiUgSGGiIiIlIEhhoiIiJSBIYaIiIiUgSGGiIiIlIEhhoiIiJSBIYaIiIiUgSGGiIiIlIEhhoiIiJSBIYaIiIiUgSGGiIiIlIEhhoiIiJSBIYaIiIiUgSGGiIiIlIEhhoiIiJSBIYaIiIiUgSGGiIiIlIEhhoiIiJSBIYaIiIiUgSGGppkOlC1fRkit1eiU5QQERF54j6bRFyfOm60wFhxHO/WNqHBbLUX+alDoImOReLqeITPsBd5kbyhTkLeBXFzCBUCQtSIXByL1SuWI1LtK8qnIvFeQQ/j6/EIEKVe12eFpbEcpadqUPvXDnT2SmU+vgh9JApxsRug/YUaftMcsxIR0b1hyoUaS+1uZOScQ7u0AdNolyP0R45ya0cTqoxmdMMfcbkHkR0d6LjDK/pDjRra5AgEidKBuq/Ui42rCqHrs1G0ZQkCpuRGdQJCTW8LSrZtg6HZCr8wKcQ8EijFSlk3WqvPwXTNCtXcRJQUpCPUx34HERHdA6ZUqLE2F0GXXonr0ekw7ExE6OAdItfOIj8jDxVmf6T/4W2khIjyMesPNfEoMekRLkqH6OuA6fdbkXGyC8GbDqJ8Q5i4YyoZ51AjvcdVL2xEXmMAdHteh37xoPDa14PWU1lIOdACrMiGcU8M/MRdREQ0uU2dNjXWJhherkS7OhGGPU4CjWxGDDJ/lyqFji4Y3jor/W6fYNMCoXm2AJlSlmk/chx1PaKcvKbT+AryTIB218GhgUY2zReh6/Yhf40K1tOFqGgT5URENOlNmVBjbaxGaQeQ8GwqQt0d1lHHIG6hND19CVcdJRNrmhrRcfIemno0X3EUkbeYUftOCzB7A1Ki/UWZM77QrIyFCj1o/lxaaYiI6J4wZUJNe1u99H8YQmc5Wk+4FohZs+RpG65csxdMuICfOI57tX/BDapX9fwNzZel6fwwBDtKXHtQjUhpYrr6teM2ERFNelMm1ARpsnG4MBWRomHw8Hzxwx+IqxPM+q3jwFdQwOAWJXJ7kwHdna/VozR3I7TLpTLNMmQYu+xzfe9GG0xlWdi8cRU00v3yPJGxa7E51wBjm+tjWxcPyfMW4aK43dlQivxdaxEtlqFZk4TMY2dhkXsMDaPbfFaqYxoSY8XzL18FXUYWSs+b0d0nZnKnrwft54uRk3H7+aOT0pBTVo9OTx4/kOq/I7FwHw7/Si0Khhf0w+FCMBERTRZTJtT4zYpCZGQEgobdRplxuVGahM133u5mArR/Ju9VUiN4puvK3rxsQEpSFoo+7MT0OVHQrYnA9AGzW07vloJEGjJKWqCasxy653fg8J5UpGhD8I+Py5GzcS10R5vg6NDuQl8H6vauhfaFE7jssxAJyfFISY5F9I87UXc0D3GpUvBxFWz6umD6fRK0SXkwNFoRqpUfK11+vRTB3zahaKcUxrYa0OouGMm9lLauReLeGtyauVQ8fwwWSJ+R8VAWVr9QCctIgo0qEOGR0nowy92hJwfrlUswQQXNbK+1FiciovEm936iAT4/bEtY9KhN/75FFHiDxVa57VHbgkWFtmZR4tIXJ2x66fkXvXjGdlMU3SaWs3WnLfvJlbbkPzbabn4n7hrg1se5tkXSMhIKztiuO7nf9p3Fdr7gCak+K237P+4Whbc1H5TrmmMrPPiEbdGO47bLQ2exffX+FvtzrC65JEoGumVrftOxfH3F507reP1crv19XrTjlO26KHPof435tsIdK20Jr1Tbvhry+G6pjvLyvf059eu01b640rZgrfR53RJFREQ06U2d3k8e6YDxzUq0B8YjdYU3x6kZnvVaGxpO7YZuowENIfE4stNNV+LGerRq9uHIhggnA8T1wGQ8CytioN8S43ysG7mX1aYMJPhYUfHOGRcj955DqWkpjrykc7rHKujxHcgIAyxvnfn+MNX3vqzEgWNdCFr/MvLXhTgdxC5gcTb2P6eG1VSMKrmdy2CNNShHOgp3xiJoyON9Ef6MXH/AVFvv9ZGHrS3HYThthSY5EeE8+kREdM9gqBnAUv0Kck1AwvOp47Qxq0SKaBcy+KJZk4bNr52Dat0+vFusR7jbQd8ikKKLEAPGDeaLZXvq0GDKhsbda/AJw9z50tRkhsVRMogvdFnpbuqhxtwlUtrpHdqguvX0cSnoqKF7IspFHR2CtRuglUJYVUOLKBlIjYxn450EGkEVBY1Wml5wVf9R6m2C4RUp2IalQq+d2GBLRERjw1AjyAPzZextwUNJ+5CxcLwa08gjCou2JUMusdDO9UXr8SwkbDegwd3uh4VLEfmAuD5q/njIbXvZpVgU5j7ZTfd3tgAzms/3ALOXY8FMUeSKrxTOCvchW+MkPMyPhcbt41X4oT1wdeOm24ZBIyAPzPdiFkqvhSH7JR2CXQUqIiKalBhqZB2VyNxWia80ehRucrUHxBsikPi0HulOLzuQa3gPphM7EH2tHJt/66YR7oRQ4Z9Gs1Hv+xoW+XDSvJDhu01LwSrYVcNdlQr3i6vufY3r34irY9KDi0e2Is/kC13BPsRxJw0R0T2Hoaa3CUXbi2CaEY8jL7k53DFRZsYiWx7V2FyJTUfOue+dNBy5S/epV5GTkXS7S/WAS0qZmM+bOjvQLk+njV80HA+W6ixsKuuBRh5peO5d6vZGRERjMrVDzcDDDa8P145lAqnjsWEFYD35IRpGlWp60FqWhmi5S/ebF3BrZgye2rUPh+UxWgZc9NFi9ilu4KHH/Me5i4aI6F41hUPNZD7c4IvpP5anozu0Iu91SDlkxsObClD73tvIfz4VcYvlcXruvMx7UDzAmwICHYed+rzV0GWcTdihRyIiGm9TNNRIgeZomjIPN/Q1oeJAC6zRehQ57fI9zqY9iKDZ0rTNy72SxoMcaFIn0aFHIiIakykZauztJ451Ijh5sh5u6MAV+8ksH8R0j0/rIHSa0d4LaBZKgUYUOdeDmzfEVa9SY+5iKSQ2foSG4c6d1VePIrl9z6EmUTCBRFuqOkQgdzIdeiQiolGbcqFmYPuJkqcn5+EGa3M53roAqNb9EpEjraDY29Dw+d/cNjK2NhejqFrc8LLQFRsQjhaU/KnefR0aTqNc+gQSHpHPSj6BBralKi4Ah6MhIlKGqRVqxtp+Qj65YnM9Wr09hO0A3W2l9jq2+4Qh89dLRl7HgKXQRkuB4WQhCi8MOsGlTHoNrdW7oUuvwVf2vRNW/GOkJ4Yczsx4PJfsD8uJ3cg82eb0xJXdLQZsyj4LaNKhmz+R0ZJdt4mIlOo++VwJ4rqyWZtg2LgNJWY1UnLTscD9sRlBhYfm3T4JZqdxK7S5LYBah/KyVA/GYeknn107CXkX5MH3pOWJ0jt1o732HOrMVuCBCGQefBkJswa39RHLgR7G1+Mx+Bze3+s4i7zteagyA35hUYh7JNARjr4xo662Ce03VFj2/EHEWdKQURaG7FPS9Rn2R9rJZ+lOKYtHiUmPcFHmTGe19H7sxZDH20nhqeGYtPxjHcCMMMQ9HoHQ2Q8Df2/EJ+c+Qm1zD+6P1MHwu1SE3nHox8PXKHHUc2j93ZE/w9XSZ+inTUWONsSz0BgQ4tFJMImI6O6aOqHmWiUy1hTBJG565s4NprXFgBR9OSzR2aja5ebcTEP0hxpx0xkfX4TOCYNmxXokaiOcn7NpBBt8+RBLw4kiHHu/CQ1yUJI23wEhakSuXI+Ux2MQ/EB/KGlBwusfIHPh7c27V0KN0G0+i6o/nsC7H7dJYUoqkF/nI1LQWpOKhEhnu0nGN9Q4HiNueCqpAA1bIsQNIiKarKZOqCEiIiJFm8Lj1BAREZGSMNQQERGRIjDUEBERkSIw1BAREZEiMNQQERGRIjDUEBERkSIw1BAREZEiMNQQERGRIjDUEBERkSIw1BAREZEiMNQQERGRIjDUEBERkSIw1BAREZEiMNQQERGRIjDUEBERkSIw1BAREZEiMNQQERGRIjDUEBERkSIw1BAREZEiMNQQERGRIjDUEBERkSIw1BAREZEiMNQQERGRIjDUEBERkSIw1BAREZEiMNQQERGRIjDUEBERkSIw1BAREZEiMNQQERGRIjDUEBERkSIw1BAREZEiMNQQERGRIjDUEBERkSIw1BAREZEiMNQQERGRIjDUEBERkSIw1BAREZEiMNQQERGRIjDUEBERkSIw1BAREZEiMNQQERGRIjDUEBERkSIw1BAREZEiMNQQERGRIjDUEBERkSIw1BAREZEiMNQQERGRIjDUEBERkSIw1BAREZEiMNQQERGRIjDUEBERkSLcZ5OI60PdaIGx4jjerW1Cg9lqL/JTh0ATHYvE1fEIn2EvGhfdl2tQWlGJuo/b0H5DLlEhODICy1asR6I2AgHT7LO51teD9o9PoORkDUwNXeiWilQzAjFvfgySf5OKSA/qPvY6dOCisRTH37mATy476oAH/BH6fyxEwq91iJsbaJ+NiIiIxs5lqLHU7kZGzjm0+/hCo12O0B85yq0dTagymqUNtD/icg8iO9rLG2YpCNTt34rM6i4phIQh7vEQ+NnvsMLy1zMwtkjhSr0E+a+/jGWunlpahnHPRuTUWuEXFoW4RwKlOCL5tgMNxnpcvKHCspw/IF/rYgFeqIP1SjmytxpQJz1X8C+XYNksxxLsdahrwsVrUt2i9SjdE4+g4cIRERERDU8ONYPd+rTQlrDoUduy7BO2y92icKD/PGPb/+SjtgWLnrAVfy7KvKLb1nzwCWm5K2073vncdvM7UTzA9XO59rotePKw7bKT+28v4wlb7l+uirIBvrtqq9yx0n7/4Uu3ROFAXqiD5ZRNHyPfn2s7/5+ibKDvum2XK7bYFknLSHiz0easFkRERDQyQ0PNrUZb4Vp3oUG4etyWLG/YXzxjuymKxkoOU6vlDf0fL4kS565U/KsUOh61ZZ91kri+OGGvl9uw8O0Fx2t85oTtK1HUb+x1uGX7a4EcmrbYKi2iyKlu2/lX5fmes/35G1FEREREozakobC1sRqlHUDCs6kIdXdYRB2DuIXS9PQlXHWUjJEVDX+phAUx0K8PE2XOBS+Nh0aaGj9rcxQM0Fp3HBcRgZSECMchJ2d8opDwlBpoOQ7jHYvwQh2s9ag7aQXWrMev3B6Z80Xk4iXStAmtZkcJERERjd6QUNPeVi/9H4bQWS4jgRCIWbPkaRuuXLMXjFEbWi9Ik4VzMHu4p56hRrA8vWJGp72gnxnN/94DzF+IuQ+IIheC5i9HKHrwyWdSgvueF+rwTacUigDNz//ZdagSVD9wtLO5fl2qMxEREY3JkFATpMnG4cJURIqGwcPzxQ9/IK6OSSCW7dyHwylRolGuB/z87gwO1r+j/bI0nR2CIEeJazNDEClNGq7+3XHbzgt1mBGPQlMdCh8fvgG15T+apP8DMfe/+ToKiIiIaNSGhBq/WVGIjIxA0HC7GWDG5UZpEjYfoV7ZJvsjOFJ67jDRU8kdcwsapEn4vH++M3yIvSSRP3nQcdudaSqofKSpuWPAnhYv1MFTHZXIP2SGakUqtGpRRkRERKM2+sH32mpQcRnQxC0Zfq+Il7V+dAqtCEOcxnkaUHnURfpBBM0TV0dhuDq4Yr3WhoZTu6HbUITmX6SjdGfM6EIRERER3WGUoaYDxjcr0R4Yj9QVwx9m8aprlTD8WxeCklLxq3Ec/M+tkdRBmjdDswyR4qJZk4bNJX+HZk8ZanMTESzvLSIiIqIxG1WosVS/glwTkPB8KsKHPU7jRX0dqHrNABNikJnipnfTeBppHX6ghiY5HiniotOqEdBrRsme7cirboNjnGYiIiIaqxGHGmtzETL2tuChpH3IWDiRDVx7cPHIVuSZfKEryIDmruzhGEUdfCOQ8LQe6eKiz/kDjB+U4fCvffHnvVuRUtYiZiQiIqKxGFmo6ahE5rZKfKXRo3DTxO4psVRnYVNZDzS7DkI/9+70FvJaHaYFIvLpAhSuV6H10Kuo+FKUExER0ah5Hmp6m1C0vQimGfE48tLEnq9o4N6hfA+6So8H79fBF5Fx6xEKM0rruLeGiIhorDwLNXI7khezUHotDNmv6xE+kYd+RrF3yNonrrj1Na7KA+15Yrz2UKnD7GPlWC62DRpEkIiIiEbKg1AzsB3JPsRN5I6Ske4dCgi0j/Lb8MXXjtvuWHtwS56qAxFgL3BhpHWQltt9o8fDYCWMZF4iIiJyaphQIwWao2l3py2LFCYM6SPcOzTtp3h4vjRtbEG7o8Q18yWYpEnkwz913HZmFHXoPJ2F6Nht+PNITh0xeFRiIiIiGjG3ocbeMPZYJ4KTJ7gtizjcVfJlAFJGtHcoELMfkYLX5TP4ZJjGt+2fnoMFvljwcxcLH2Ud/ALk0YzbYLrU5ShwR4xKHDpnlKMSExER0fdchpqBDWNLnp7Ink4DD3e9gfQR7h0KXbYB4XLj23fqXY8B03sOFUc6gLAN0IaIsjuMvg6q+b9Egg9Qd+w4LvaKQqd60FB1Aq1QI24hz5NAREQ0Vs5DzVgbxvb1oL25Hq2jaP065m7TM+PxXLI/LCd2I/Okk8Ht+syoejEPFb3+SNHHOz3Fw5jqoFqCjN/FwM9ciU3bDLjo7ATc0vvTejILGSd6ELxpBxJminIiIiIatftsEnHdwdoEw8ZtKDGrkZKbjgUeHRdR4aF5t0+C2WncCm1uC6DWobws1d541xPWliLo0irRPjce+SkL4VGc+MFPMW/wCSj7OlC3fysyq7vgFxaFuEfmIHS2L643XkCtsR4Xb6iwLOcPyNcOPabkrTpYaqVQtfccWntVCNcuR+ScMCz4sRWtly/hk+pzMF0DQpNfhiE5Cn4T2D2eiIhIqYaGGvlcRWuK7I1oPReG7FMHESfOg2RtMSBFXw5LdDaqdnl+wsbOaikM7R3hmC0L9TC+Hu+0B1NnQzEK36qBqaEL3XLBA/6I/EUskn+TikgX52zyah16zDCdPo6q95vwyeU76/DU/1wPjXoUe6KIiIjIqaGhhoiIiOge5ME4NURERESTH0MNERERKQJDDRERESkCQw0REREpAkMNERERKQJDDRERESkCQw0REREpAkMNERERKQJDDRERESkCQw0REREpAkMNERERKQJDDRERESkCQw0REREpAkMNERERKQJDDRERESkCQw0REREpAkMNERERKQJDDRERESkCQw0REREpAkMNERERKQJDDRERESkCQw1NMh2o2r4Mkdsr0SlKiIiIPMFQY+3AxepXkbGmCBdFkfeJDbXG1eUxaDemIedoJRrMPeIxNJG6zWdRmrsRmdUdooSIiO4199kk4vqUYu2oR/lRA0qMZnTbS+JRYtIj3H7d2+RQk4S8C2pokyMQJEoH6r5Sj9q/dqCzV4XQ9dko2rIEAdPEnVOKeK+gh/H1eASI0nHR14XW2mIYDp+B6ZrVXqTZVYbCxwPt14mI6N4ytfbUSBux9vPFyEl7DJp1WSj6sBNzkxKRMFvcP+4ikPi0HulOLpl7y2D8QNqgrvNF64ndSC9rEY8hb7N2NKHq0FZoH1sL3Z4aNP84AvqkCHEvERHdq6ZUqOk07kbizlKYpHCh3/8Gaj94D4Vb4hH6IzHD3TYtEJpnC5AZBrQfOY46HokaB00wrNuGvFNmzF6jR8nJD1D7xj7olqjF/UREdK+aUqFG9bP1tzdii0PgNxkP70xTIzpOSjWoR/MVRxF5kz+iBwTa8ECVKCcionvdlAo1fiFL7omNWMBPQuzT9i/YaNX71AifrIGWiIjGhL2fJiHrt46my0EBg5vJDurufK3e3mNHu9zRiyrD2GWf63s32mAqy8Lmjaug6e9pFbsWm3MNMLa5PrZ18ZA87+3eYJ0NpcjftRbRYhmaNUnIPHYWll4xgxuOXkVpSIwVz798FXQZWSg9b0Z3n5jJnb4eRzuojNvPH52UhpyyenR68ngiIpoyGGomofbP6qX/1Qie6Xqv0s3LBqQkORo7T58TBd2aCEwfMLvl9G4pSKQho6QFqjnLoXt+Bw7vSUWKNgT/+LgcORvXQne0CY4+Py70daBu71poXziByz4LkZAcj5TkWET/uBN1R/MQlyoFH1fBpq8Lpt8nQZuUB0OjFaFa+bHS5ddLEfxtE4p2SmFsqwGt7oJRbwtKtq5F4t4a3Jq5VDx/DBbADOOhLKx+oRIWBhsiIuond+me2iy2ym2P2hYsKrQ1ixLvG8FzfHHCpl/0qG3Ri2dsN0XRbWI5W3fasp9caUv+Y6Pt5nfirgFufZxrWyQtI6HgjO26k/tt31ls5wuekOqz0rb/425ReFvzQbmuObbCg0/YFu04brs8dBbbV+9vsT/H6pJLomSgW7bmNx3L11d87rSO18/l2hLk17njlO26KHPof435tsIdK20Jr1Tbvhry+G6pjvLyH7Xp37eIsjH6tNC7yyMiognHPTWThPVaGxpO7YZuowENIfE4sjMGfuK+IRrr0arZhyMbIpy0DemByXgWVsRAvyXG+Vg3ci+rTRlI8LGi4p0zLkbuPYdS01IceUmHUF9RNEDQ4zuQEQZY3jozdNDCLytx4FgXgta/jPx1ztuvBCzOxv7n1LCailF1WRQO1FiDcqSjcGcsgoY83hfhz8j1B0y19Rx5mIiI7BhqJlQlUkS7kMEXzZo0bH7tHFTr9uHdYj3CpQ22axFI0UXA+cEpXyzbU4cGUzY07tpE+4Rh7nxpajLD4igZxBe6rHQ39VBj7hIp7fS24co1USS0nj4uBR01dE9EuaijQ7B2A7RSCKtqcDYmjxoZz8Y7CTSCKgoarTS94Kr+REQ01TDUTCh5RGHRtmTIJRbaub5oPZ6FhO0GNLjb/bBwKSIfENdHzR8PuR2aZSkWhbmLJMB0f2cLMKP5fA8wezkWzBRFrvhK4axwH7I1TkbwnR8LjdvHq/BDe+Dqxk23DYOIiGiqYKiZUK5HFE5/egdyDe/BdGIHoq+VY/Nv3TTCnRAq/JOrvSTu9H0Ni3w4aV4Igh0lbvgjODIKkbP8xe0BVCrcL6669zWufyOuEhHRlMZQM9nMjEX271IRbq7EpiPn3PdOGo7cpfvUq8jJSLrdpXrAJaVMzOdNnR1ol6fT3O/lISIi8jaGmslIHY8NKwDryQ/RMKpU04PWsjREy12637yAWzNj8NSufThceOdFHy1mJyIiUgCGmknJF9N/LE9Hd2jFUp2FlENmPLypALXvvY3851MRtzgKkfKhngGXeQ+KB3hTQKDjsFMfG7oQEdHEYqhRmr4mVBxogTVajyKnXb7H2bQHESSf9byNvZKIiGhiMdRMSh24Yj+Z5YOYPtIziHea0d4LaBZKgUYUOdeDmzfEVa9SY+5iX6DxIzQM6uo9RF89iuT2PYeaRAEREdHoMdRMQtbmcrx1AVCt+yUiR9reVuyZafj8b24bGVubi1FULW54WeiKDQhHC0r+VO++Dg2nUQ4VEh6Rz0pOREQ0Ngw1IyGfXLG5Hq3jOIRtd1spMrdVot0nDJm/XuJ28DqnApZCGy03Mi5E4YVBJ7iUSa+htXo3dOk1+Mo+zosV//D2+ZNmxuO5ZH9YTuxG5sk2pyeu7G4xYFP2WUCTDt189pQiIqKxY6gZgc7TWUhMz4Lut8WObssj1oTyo0UwOL3kITPpMURvLIZJFYHMN/YhzsmYdMPzh3ZzNuLUXajYvhbRaVko6n+O17YhcdUq6PbW4+HnDyJ/jTy/GRavhzQVwpP/DYeTA9BwIA3adVuRf7QYVefPoqrsVeSkr4I2rRxX5+hQ8pKbUYOJiIhGgKFmBPx+EoZQH2k652FMF2UjY4bxWCVKnF3+VA/LjAik7CqA8b0CJMxycsIlTwXGIPt4GQ5vicLsniaU2p+jBlWXehCqy0Z5zQdSoAnB7Iflwz4taL0yDj2Vpvki8ukyGMuykT7fik/eKUXezjzklXyE9v8ShYzCMtQWptrfTyIiIm+4Tz6rpbhOREREdM/inhoiIiJSBIYaIiIiUgSGGiIiIlIEhhoiIiJSBIYaIiIiUgSGGiIiIlIEhhoiIiJSBIYaIiIiUgSGGiIiIlIEhhoiIiJSBIYaIiIiUgSGGiIiIlIEhhoiIiJSBIYaIiIiUgSGGiIiIlIEhhoiIiJSBIYaIiIiUgSGGiIiIlIEhhoiIiJSBIYaIiIiUgSGGiIiIlIEhhqaZDpQtX0ZIrdXolOUEBEReeI+m0RcnzputMBYcRzv1jahwWy1F/mpQ6CJjkXi6niEz7AXeZG8oU5C3gVxcwgVAkLUiFwci9UrliNS7SvKpyLxXkEP4+vxCBClXtdnhaWxHKWnalD71w509kplPr4IfSQKcbEboP2FGn7THLMSEdG9YcqFGkvtbmTknEO7tAHTaJcj9EeOcmtHE6qMZnTDH3G5B5EdHei4wyv6Q40a2uQIBInSgbqv1IuNqwqh67NRtGUJAqbkRnUCQk1vC0q2bYOh2Qq/MCnEPBIoxUpZN1qrz8F0zQrV3ESUFKQj1Md+BxER3QOmVKixNhdBl16J69HpMOxMROjgHSLXziI/Iw8VZn+k/+FtpISI8jHrDzXxKDHpES5Kh+jrgOn3W5FxsgvBmw6ifEOYuGMqGedQI73HVS9sRF5jAHR7Xod+8aDw2teD1lNZSDnQAqzIhnFPDPzEXURENLlNnTY11iYYXq5EuzoRhj1OAo1sRgwyf5cqhY4uGN46K/1un2DTAqF5tgCZUpZpP3IcdT2inLym0/gK8kyAdtfBoYFGNs0Xoev2IX+NCtbThahoE+VERDTpTZlQY22sRmkHkPBsKkLdHdZRxyBuoTQ9fQlXHSUTa5oa0XHyHpp6NF9xFJG3mFH7TgswewNSov1FmTO+0KyMhQo9aP5cWmmIiOieMGVCTXtbvfR/GEJnOVpPuBaIWbPkaRuuXLMXTLiAnziOe7V/wQ2qV/X8Dc2Xpen8MAQ7Slx7UI1IaWK6+rXjNhERTXpTJtQEabJxuDAVkaJh8PB88cMfiKsTzPqt48BXUMDgFiVye5MB3Z2v1aM0dyO0y6UyzTJkGLvsc33vRhtMZVnYvHEVNNL98jyRsWuxOdcAY5vrY1sXD8nzFuGiuN3ZUIr8XWsRLZahWZOEzGNnYZF7DA2j23xWqmMaEmPF8y9fBV1GFkrPm9HdJ2Zyp68H7eeLkZNx+/mjk9KQU1aPTk8eP5DqvyOxcB8O/0otCoYX9MPhQjAREU0WUybU+M2KQmRkBIKG3UaZcblRmoTNd97uZgK0fybvVVIjeKbryt68bEBKUhaKPuzE9DlR0K2JwPQBs1tO75aCRBoySlqgmrMcuud34PCeVKRoQ/CPj8uRs3EtdEeb4OjQ7kJfB+r2roX2hRO47LMQCcnxSEmORfSPO1F3NA9xqVLwcRVs+rpg+n0StEl5MDRaEaqVHytdfr0Uwd82oWinFMa2GtDqLhjJvZS2rkXi3hrcmrlUPH8MFkifkfFQFla/UAnLSIKNKhDhkdJ6MMvdoScH65VLMEEFzWyvtRYnIqLxJvd+ogE+P2xLWPSoTf++RRR4g8VWue1R24JFhbZmUeLSFydseun5F714xnZTFN0mlrN1py37yZW25D822m5+J+4a4NbHubZF0jISCs7Yrju53/adxXa+4AmpPitt+z/uFoW3NR+U65pjKzz4hG3RjuO2y0NnsX31/hb7c6wuuSRKBrpla37TsXx9xedO63j9XK79fV6045Ttuihz6H+N+bbCHSttCa9U274a8vhuqY7y8r39OfXrtNW+uNK2YK30ed0SRURENOlNnd5PHumA8c1KtAfGI3WFN8epGZ71WhsaTu2GbqMBDSHxOLLTTVfixnq0avbhyIYIJwPE9cBkPAsrYqDfEuN8rBu5l9WmDCT4WFHxzhkXI/eeQ6lpKY68pHO6xyro8R3ICAMsb535/jDV976sxIFjXQha/zLy14U4HcQuYHE29j+nhtVUjCq5nctgjTUoRzoKd8YiaMjjfRH+jFx/wFRb7/WRh60tx2E4bYUmORHhPPpERHTPYKgZwFL9CnJNQMLzqeO0MatEimgXMviiWZOGza+dg2rdPrxbrEe420HfIpCiixADxg3mi2V76tBgyobG3WvwCcPc+dLUZIbFUTKIL3RZ6W7qocbcJVLa6R3aoLr19HEp6KiheyLKRR0dgrUboJVCWFVDiygZSI2MZ+OdBBpBFQWNVppecFX/UeptguEVKdiGpUKvndhgS0REY8NQI8gD82XsbcFDSfuQsXC8GtPIIwqLtiVDLrHQzvVF6/EsJGw3oMHd7oeFSxH5gLg+av54yG172aVYFOY+2U33d7YAM5rP9wCzl2PBTFHkiq8Uzgr3IVvjJDzMj4XG7eNV+KE9cHXjptuGQSMgD8z3YhZKr4Uh+yUdgl0FKiIimpQYamQdlcjcVomvNHoUbnK1B8QbIpD4tB7pTi87kGt4D6YTOxB9rRybf+umEe6EUOGfRrNR7/saFvlw0ryQ4btNS8Eq2FXDXZUK94ur7n2N69+Iq2PSg4tHtiLP5AtdwT7EcScNEdE9h6GmtwlF24tgmhGPIy+5OdwxUWbGIlse1dhciU1HzrnvnTQcuUv3qVeRk5F0u0v1gEtKmZjPmzo70C5Pp41fNBwPluosbCrrgUYeaXjuXer2RkREYzK1Q83Aww2vD9eOZQKp47FhBWA9+SEaRpVqetBaloZouUv3mxdwa2YMntq1D4flMVoGXPTRYvYpbuChx/zHuYuGiOheNYVDzWQ+3OCL6T+Wp6M7tCLvdUg5ZMbDmwpQ+97byH8+FXGL5XF67rzMe1A8wJsCAh2Hnfq81dBlnE3YoUciIhpvUzTUSIHmaJoyDzf0NaHiQAus0XoUOe3yPc6mPYig2dK0zcu9ksaDHGhSJ9GhRyIiGpMpGWrs7SeOdSI4ebIebujAFfvJLB/EdI9P6yB0mtHeC2gWSoFGFDnXg5s3xFWvUmPuYikkNn6EhuHOndVXjyK5fc+hJlEwgURbqjpEIHcyHXokIqJRm3KhZmD7iZKnJ+fhBmtzOd66AKjW/RKRI62g2NvQ8Pnf3DYytjYXo6ha3PCy0BUbEI4WlPyp3n0dGk6jXPoEEh6Rz0o+gQa2pSouAIejISJShqkVasbafkI+uWJzPVq9PYTtAN1tpfY6tvuEIfPXS0Zex4Cl0EZLgeFkIQovDDrBpUx6Da3Vu6FLr8FX9r0TVvxjpCeGHM7MeDyX7A/Lid3IPNnm9MSV3S0GbMo+C2jSoZs/kdGSXbeJiJTqPvlcCeK6slmbYNi4DSVmNVJy07HA/bEZQYWH5t0+CWancSu0uS2AWofyslQPxmHpJ59dOwl5F+TB96TlidI7daO99hzqzFbggQhkHnwZCbMGt/URy4EextfjMfgc3t/rOIu87XmoMgN+YVGIeyTQEY6+MaOutgntN1RY9vxBxFnSkFEWhuxT0vUZ9kfayWfpTimLR4lJj3BR5kxntfR+7MWQx9tJ4anhmLT8Yx3AjDDEPR6B0NkPA39vxCfnPkJtcw/uj9TB8LtUhN5x6MfD1yhx1HNo/d2RP8PV0mfop01FjjbEs9AYEOLRSTCJiOjumjqh5lolMtYUwSRueubODaa1xYAUfTks0dmo2uXm3ExD9IcacdMZH1+EzgmDZsV6JGojnJ+zaQQbfPkQS8OJIhx7vwkNclCSNt8BIWpErlyPlMdjEPxAfyhpQcLrHyBz4e3Nu1dCjdBtPouqP57Aux+3SWFKKpBf5yNS0FqTioRIZ7tJxjfUOB4jbngqqQANWyLEDSIimqymTqghIiIiRZvC49QQERGRkjDUEBERkSIw1BAREZEiMNQQERGRIjDUEBERkSIw1BAREZEiMNQQERGRIjDUEBERkSIw1BAREZEiMNQQERGRIjDUEBERkSIw1BAREZEiMNQQERGRIjDUEBERkSIw1BAREZEiMNQQERGRIjDUEBERkSIw1BAREZEiMNQQERGRIjDUEBERkSIw1BAREZEiMNQQERGRIjDUEBERkSIw1BAREZEiMNQQERGRIjDUEBERkSIw1BAREZEiMNQQERGRIjDUEBERkSIw1BAREZEiMNQQERGRIjDUEBERkSIw1BAREZEiMNQQERGRIjDUEBERkSIw1BAREZEiMNQQERGRIjDUEBERkSIw1BAREZEiMNQQERGRIjDUEBERkSIw1BAREZEiMNQQERGRIjDUEBERkSIw1BAREZEiMNQQERGRIjDUEBERkSIw1BAREZEiMNQQERGRIjDUEBERkSIw1BAREZEi3GeTiOtD9ZhheteAt/7Sgk/bemCVilQzAjFvfgye+p/roVH7OuYbB92Xa1BaUYm6j9vQfkMuUSE4MgLLVqxHojYCAdPss7nW14P2j0+g5GQNTA1d6JaK+uue/JtURM5wzObOmOvgQqdxK1bntsC6UA/j6/EIEOVEREQ0ei5DTeeFV6HPrkErfBH+y6WIDFQ57vjGjLraJmkjr0Jo8j6UPB0hbeq9qK8Ddfu3IrO6SwohYYh7PAR+9jussPz1DIwtUrRSL0H+6y9jWaD9jqGkZRj3bEROrRV+YVGIeyTQUcdvO9BgrMdFqe7Lcv6AfK2LBXijDq7cOIuctXkw9krXGWqIiIi8Rw41g936tNCWsOhR26Idx22Xu0XhQN9ZbOcLnrAtWLTSpv+zRRR6Q7et+aBjuTve+dx28ztRPMD1c7n2ui148rDtspP7by/jCVvuX66KsgG+u2qr3LHSfv/hS7dE4UDeqIMr3bbzr0rP/eQTjsdvO2W7Lu4hIiKisXHSpsaMqoOVaA+MReFLOoQ6O8I0LRCaZwuQGWaF6WglWvtE+RhZm4uRXdaF4E0FyF8TAj8nh3cCFmdj/3NqqZrlKP2wR5QO8GUNDsjLSM5G5gppvsGmqRH30svQBXahpKgSFlHczyt1cMHaaED+KSDh2c3QiDIiIiLyjqGhxnwOVS1A6K8TEekjypyRwsGClYFARwsud4qyMbGi4S9yyIiBfn2YKHMueGm8PRQYP2tzFAzQWnccFxGBlAQ3h8V8opDwlBRKWo7DeMcivFMHp3rrYdhbg+srMpG+0F8UEhERkbcMDTU3OtEqTSJ/5mQvxyA/9JE3zmZ02hvRjlUbWi9Ik4VzMHu4Rjoz1AiWp1ek57YX9DOj+d97gPkLMfcBUeRC0PzlCEUPPvmsQ5TIvFEHZ6y4+FY+Sr8JQ87mGNE+h4iIiLxpaKiZq0eDqQ76ueK2S1Zc+VzeSxGF0OHzjwcCsWznPhxOifJ8o+/nd+feGOvf0X5Zms4OQZCjxLWZIYiUJg1X/+64beeFOjjTVozcYz3QPPe/oPWg1xURERGN3KjHqbE2G/DqSSuCN62BZtituif8ERwZhcgw0VPJHXMLGqRJ+Lx/vjN8fNNpbyMT+ZMHHbfdmaaCSj68Zu4YsKfFC3UYrK8FJS+Wo31hKjJd9bYiIiKiMRtZqOmzovvLFhiPpUGbXgPV+pdhSHLf9mQ8tH50Cq0IQ5zG+S4ilUfjxzyIoHni6igMV4d+7adehcGsRuaziQga5bg2RERENLzhQ01zESI1yxyXpY8hev1W5Jz2h774bZQ+u2TUA9CN2rVKGP6tC0FJqfjV3TqU42kdOspRdMCM4E07kOCVQ3RERETkyvChxn8OUpLjv78k/NIffuZ65G3bhpLGLjHTBOnrQNVrBpgQg8wULw/65ylP6yDPd6AYJnU8cobpSUVERERjN3yomRmD9Kf1318y976N2g/eQPbiThh++yTyPpyoYNODi0e2Is/kC11BBjTuupuPG8/r0Hn6FeSbVNA9n4rwu5K+iIiIppbRNRT2DUHczoPIXmhFVe5hNMgnhRpnluosbCrrgWbXQejnjt85p9zxuA43zqLwtRZgTSbS59+duhIREU01ows1smmB+FVCDNB7Fu+e93xU3dGwNhchY28LHkrah/zH704PIs/r0IW6A/kwIgp5zyy5O4fIiIiIpqDRhxqJatYc+6i6tVc8HFV3NDoqkbmtEl9p9Cjc5Fk7GqtHp234GlflgfY8MYI6WC8cRvZpQLsrE8uGGQCQiIiIvGdoqOntQfeNkR1Pst4SV7yttwlF24tgmhGPIy/FD98lOiDQPspvwxdfO267Y+2BvdrqQPdnyR5RHVpQ+tpZWKV/xpy1t3uNDblsQ6k8+4UiaL8v24qqa/aFEBER0SjcJ5/VUly3u3hoGVLKYnH4ox2IHC5EXKtExpoitG86iKoNXu7hI4UJQ3oWSr4MQfbxg4jz6KhTB6p+m4S8b1NRXqxznMbAlTYD4jaW46GdZTi82sXCR1yHLrQ3tOG6uOVaGyoyilE3Oxa5m5aKUKXCQ/MiEMTjVURERKMyZE+N73+Vt9wf4aIHR5SsVy7BJE01ISGOAm+Ru0O/KIeJAKQU7PMw0MgCMfsRX+DyGXzypShyof3Tc7DAFwt+7mLho6qDGJF42EsYHpJn/1HIgDIGGiIiorEYEmqCF8YjHD0oLqmExV3bFGmj/+eKs4BPDJbN9+bWeGC36TeQPsKeTqHLNkj1N6P0nXq4PIjWew4VRzqAsA3QOs1jY6sDERERTbyhbWpmJiLneWlLbypCxv4a58FGCjSm30sb/QsqaHdtRuTgTNPXg/bmerQOf/rqIcbcdXtmPJ5L9oflxG5knmwbGmz6zKh6MQ8Vvf5I0cc7PfHlZOg+TkRERCMzpE2NQw9ay7Yh/VAbun18odEux4Kfz0GoqgOffHYJDcZ6XLyhwrJdbyD/8aHj/3cat0Kb2wKodSgvS3XftmUAa0sRdGmVaJ8bj/yUhfAoTvzgp5g3+ASUUuiq278VmdVd8AuLQtwjUt1n++J64wXU9tc95w/Id3KCSa/Vwa0mFMmNhRfqYXw93n1DZSIiIvKIi1AjXGtC1bsn8MH5Fnza1mPf66GaEQjN8kRsSIhHuIvzHllbDEjRl8MSnY2qXTHuz2I9QGe1FIb2SmFoJNwEg86GYhS+VQNTQxe65YIH/BH5i1gk/yYVkS7q7u06OMdQQ0RE5G3uQw0RERHRPWJMg+8RERERTRYMNURERKQIDDVERESkCAw1REREpAgMNURERKQIDDVERESkCAw1REREpAgMNURERKQIDDVERESkCAw1REREpAgMNURERKQIDDVERESkCAw1REREpAgMNURERKQIDDVERESkCAw1REREpAgMNURERKQIDDVERESkCAw1REREpAgMNURERKQIDDU0yXSgavsyRG6vRKcoISIi8gRDjbUDF6tfRcaaIlwURd4nNtQaV5fHoN2YhpyjlWgw94jH0ETqNp9Fae5GZFZ3iBIiIrrX3GeTiOtTirWjHuVHDSgxmtFtL4lHiUmPcPt1b5NDTRLyLqihTY5AkCgdqPtKPWr/2oHOXhVC12ejaMsSBEwTd04p4r2CHsbX4xEgSsdFXxdaa4thOHwGpmtWe5FmVxkKHw+0XycionvL1NpTI23E2s8XIyftMWjWZaHow07MTUpEwmxx/7iLQOLTeqQ7uWTuLYPxA2mDus4XrSd2I72sRTyGvM3a0YSqQ1uhfWwtdHtq0PzjCOiTIsS9RER0r5pSoabTuBuJO0thksKFfv8bqP3gPRRuiUfoj8QMd9u0QGieLUBmGNB+5DjqeCRqHDTBsG4b8k6ZMXuNHiUnP0DtG/ugW6IW9xMR0b1qSoUa1c/W396ILQ6B32Q8vDNNjeg4KdWgHs1XHEXkTf6IHhBowwNVopyIiO51UyrU+IUsuSc2YgE/CbFP279go1XvUyN8sgZaIiIaE/Z+moSs3zqaLgcFDG4mO6i787V6e48d7XJHL6oMY5d9ru/daIOpLAubN66Cpr+nVexabM41wNjm+tjWxUPyvLd7g3U2lCJ/11pEi2Vo1iQh89hZWHrFDG44ehWlITFWPP/yVdBlZKH0vBndfWImd/p6HO2gMm4/f3RSGnLK6tHpyeOJiGjKYKiZhNo/q5f+VyN4puu9SjcvG5CS5GjsPH1OFHRrIjB9wOyW07ulIJGGjJIWqOYsh+75HTi8JxUp2hD84+Ny5GxcC93RJjj6/LjQ14G6vWuhfeEELvssREJyPFKSYxH9407UHc1DXKoUfFwFm74umH6fBG1SHgyNVoRq5cdKl18vRfC3TSjaKYWxrQa0ugtGvS0o2boWiXtrcGvmUvH8MVgAM4yHsrD6hUpYGGyIiKif3KV7arPYKrc9aluwqNDWLEq8bwTP8cUJm37Ro7ZFL56x3RRFt4nlbN1py35ypS35j422m9+Juwa49XGubZG0jISCM7brTu63fWexnS94QqrPStv+j7tF4W3NB+W65tgKDz5hW7TjuO3y0FlsX72/xf4cq0suiZKBbtma33QsX1/xudM6Xj+Xa0uQX+eOU7brosyh/zXm2wp3rLQlvFJt+2rI47ulOsrLf9Smf98iysbo00LvLo+IiCYc99RMEtZrbWg4tRu6jQY0hMTjyM4Y+In7hmisR6tmH45siHDSNqQHJuNZWBED/ZYY52PdyL2sNmUgwceKinfOuBi59xxKTUtx5CUdQn1F0QBBj+9ARhhgeevM0EELv6zEgWNdCFr/MvLXOW+/ErA4G/ufU8NqKkbVZVE4UGMNypGOwp2xCBryeF+EPyPXHzDV1nPkYSIismOomVCVSBHtQgZfNGvSsPm1c1Ct24d3i/UIlzbYrkUgRRcB5wenfLFsTx0aTNnQuGsT7ROGufOlqckMi6NkEF/ostLd1EONuUuktNPbhivXRJHQevq4FHTU0D0R5aKODsHaDdBKIayqwdmYPGpkPBvvJNAIqihotNL0gqv6ExHRVMNQM6HkEYVF25Ihl1ho5/qi9XgWErYb0OBu98PCpYh8QFwfNX885HZolqVYFOYukgDT/Z0twIzm8z3A7OVYMFMUueIrhbPCfcjWOBnBd34sNG4fr8IP7YGrGzfdNgwiIqKpgqFmQrkeUTj96R3INbwH04kdiL5Wjs2/ddMId0Ko8E+u9pK40/c1LPLhpHkhCHaUuOGP4MgoRM7yF7cHUKlwv7jq3te4/o24SkREUxpDzWQzMxbZv0tFuLkSm46cc987aThyl+5TryInI+l2l+oBl5QyMZ83dXagXZ5Oc7+Xh4iIyNsYaiYjdTw2rACsJz9Ew6hSTQ9ay9IQLXfpfvMCbs2MwVO79uFw4Z0XfbSYnYiISAEYaiYlX0z/sTwd3aEVS3UWUg6Z8fCmAtS+9zbyn09F3OIoRMqHegZc5j0oHuBNAYGOw059bOhCREQTi6FGafqaUHGgBdZoPYqcdvkeZ9MeRJB81vM29koiIqKJxVAzKXXgiv1klg9i+kjPIN5pRnsvoFkoBRpR5FwPbt4QV71KjbmLfYHGj9AwqKv3EH31KJLb9xxqEgVERESjx1AzCVmby/HWBUC17peIHGl7W7FnpuHzv7ltZGxtLkZRtbjhZaErNiAcLSj5U737OjScRjlUSHhEPis5ERHR2DDUjIR8csXmerSO4xC23W2lyNxWiXafMGT+eonbweucClgKbbTcyLgQhRcGneBSJr2G1urd0KXX4Cv7OC9W/MPb50+aGY/nkv1hObEbmSfbnJ64srvFgE3ZZwFNOnTz2VOKiIjGjqFmBDpPZyExPQu63xY7ui2PWBPKjxbB4PSSh8ykxxC9sRgmVQQy39iHOCdj0g3PH9rN2YhTd6Fi+1pEp2WhqP85XtuGxFWroNtbj4efP4j8NfL8Zli8HtJUCE/+NxxODkDDgTRo121F/tFiVJ0/i6qyV5GTvgratHJcnaNDyUtuRg0mIiIaAYaaEfD7SRhCfaTpnIcxXZSNjBnGY5UocXb5Uz0sMyKQsqsAxvcKkDDLyQmXPBUYg+zjZTi8JQqze5pQan+OGlRd6kGoLhvlNR9IgSYEsx+WD/u0oPXKOPRUmuaLyKfLYCzLRvp8Kz55pxR5O/OQV/IR2v9LFDIKy1BbmGp/P4mIiLzhPvmsluI6ERER0T2Le2qIiIhIERhqiIiISBEYaoiIiEgRGGqIiIhIERhqiIiISBEYaoiIiEgRGGqIiIhIERhqiIiISBEYaoiIiEgRGGqIiIhIERhqiIiISBEYaoiIiEgRGGqIiIhIERhqiIiISBEYaoiIiEgRGGqIiIhIERhqiIiISBEYaoiIiEgRGGqIiIhIERhqiIiISBEYaoiIiEgRGGpokulA1fZliNxeiU5RQkRE5In7bBJxfeq40QJjxXG8W9uEBrPVXuSnDoEmOhaJq+MRPsNe5EXyhjoJeRfEzSFUCAhRI3JxLFavWI5Ita8on4rEewU9jK/HI0CUel2fFZbGcpSeqkHtXzvQ2SuV+fgi9JEoxMVugPYXavhNc8xKRET3hikXaiy1u5GRcw7t0gZMo12O0B85yq0dTagymtENf8TlHkR2dKDjDq/oDzVqaJMjECRKB+q+Ui82riqErs9G0ZYlCJiSG9UJCDW9LSjZtg2GZiv8wqQQ80igFCtl3WitPgfTNStUcxNRUpCOUB/7HUREdA+YUqHG2lwEXXolrkenw7AzEaGDd4hcO4v8jDxUmP2R/oe3kRIiysesP9TEo8SkR7goHaKvA6bfb0XGyS4EbzqI8g1h4o6pZJxDjfQeV72wEXmNAdDteR36xYPCa18PWk9lIeVAC7AiG8Y9MfATdxER0eQ2ddrUWJtgeLkS7epEGPY4CTSyGTHI/F2qFDq6YHjrrPS7fYJNC4Tm2QJkSlmm/chx1PWIcvKaTuMryDMB2l0HhwYa2TRfhK7bh/w1KlhPF6KiTZQTEdGkN2VCjbWxGqUdQMKzqQh1d1hHHYO4hdL09CVcdZRMrGlqRMfJe2jq0XzFUUTeYkbtOy3A7A1IifYXZc74QrMyFir0oPlzaaUhIqJ7wpQJNe1t9dL/YQid5Wg94VogZs2Sp224cs1eMOECfuI47tX+BTeoXtXzNzRflqbzwxDsKHHtQTUipYnp6teO20RENOlNmVATpMnG4cJURIqGwcPzxQ9/IK5OMOu3jgNfQQGDW5TI7U0GdHe+Vo/S3I3QLpfKNMuQYeyyz/W9G20wlWVh88ZV0Ej3y/NExq7F5lwDjG2uj21dPCTPW4SL4nZnQynyd61FtFiGZk0SMo+dhUXuMTSMbvNZqY5pSIwVz798FXQZWSg9b0Z3n5jJnb4etJ8vRk7G7eePTkpDTlk9Oj15/ECq/47Ewn04/Cu1KBhe0A+HC8FERDRZTJlQ4zcrCpGREQgadhtlxuVGaRI233m7mwnQ/pm8V0mN4JmuK3vzsgEpSVko+rAT0+dEQbcmAtMHzG45vVsKEmnIKGmBas5y6J7fgcN7UpGiDcE/Pi5Hzsa10B1tgqNDuwt9HajbuxbaF07gss9CJCTHIyU5FtE/7kTd0TzEpUrBx1Ww6euC6fdJ0CblwdBoRahWfqx0+fVSBH/bhKKdUhjbakCru2Ak91LauhaJe2twa+ZS8fwxWCB9RsZDWVj9QiUsIwk2qkCER0rrwSx3h54crFcuwQQVNLO91lqciIjGm9z7iQb4/LAtYdGjNv37FlHgDRZb5bZHbQsWFdqaRYlLX5yw6aXnX/TiGdtNUXSbWM7WnbbsJ1fakv/YaLv5nbhrgFsf59oWSctIKDhju+7kftt3Ftv5giek+qy07f+4WxTe1nxQrmuOrfDgE7ZFO47bLg+dxfbV+1vsz7G65JIoGeiWrflNx/L1FZ87reP1c7n293nRjlO266LMof815tsKd6y0JbxSbftqyOO7pTrKy/f259Sv01b74krbgrXS53VLFBER0aQ3dXo/eaQDxjcr0R4Yj9QV3hynZnjWa21oOLUbuo0GNITE48hON12JG+vRqtmHIxsinAwQ1wOT8SysiIF+S4zzsW7kXlabMpDgY0XFO2dcjNx7DqWmpTjyks7pHqugx3cgIwywvHXm+8NU3/uyEgeOdSFo/cvIXxfidBC7gMXZ2P+cGlZTMarkdi6DNdagHOko3BmLoCGP90X4M3L9AVNtvddHHra2HIfhtBWa5ESE8+gTEdE9g6FmAEv1K8g1AQnPp47TxqwSKaJdyOCLZk0aNr92Dqp1+/BusR7hbgd9i0CKLkIMGDeYL5btqUODKRsad6/BJwxz50tTkxkWR8kgvtBlpbuphxpzl0hpp3dog+rW08eloKOG7okoF3V0CNZugFYKYVUNLaJkIDUyno13EmgEVRQ0Wml6wVX9R6m3CYZXpGAblgq9dmKDLRERjQ1DjSAPzJextwUPJe1DxsLxakwjjygs2pYMucRCO9cXrcezkLDdgAZ3ux8WLkXkA+L6qPnjIbftZZdiUZj7ZDfd39kCzGg+3wPMXo4FM0WRK75SOCvch2yNk/AwPxYat49X4Yf2wNWNm24bBo2APDDfi1kovRaG7Jd0CHYVqIiIaFJiqJF1VCJzWyW+0uhRuMnVHhBviEDi03qkO73sQK7hPZhO7ED0tXJs/q2bRrgTQoV/Gs1Gve9rWOTDSfNChu82LQWrYFcNd1Uq3C+uuvc1rn8jro5JDy4e2Yo8ky90BfsQx500RET3HIaa3iYUbS+CaUY8jrzk5nDHRJkZi2x5VGNzJTYdOee+d9Jw5C7dp15FTkbS7S7VAy4pZWI+b+rsQLs8nTZ+0XA8WKqzsKmsBxp5pOG5d6nbGxERjcnUDjUDDze8Plw7lgmkjseGFYD15IdoGFWq6UFrWRqi5S7db17ArZkxeGrXPhyWx2gZcNFHi9mnuIGHHvMf5y4aIqJ71RQONZP5cIMvpv9Yno7u0Iq81yHlkBkPbypA7XtvI//5VMQtlsfpufMy70HxAG8KCHQcdurzVkOXcTZhhx6JiGi8TdFQIwWao2nKPNzQ14SKAy2wRutR5LTL9zib9iCCZkvTNi/3ShoPcqBJnUSHHomIaEymZKixt5841ong5Ml6uKEDV+wns3wQ0z0+rYPQaUZ7L6BZKAUaUeRcD27eEFe9So25i6WQ2PgRGoY7d1ZfPYrk9j2HmkTBBBJtqeoQgdzJdOiRiIhGbcqFmoHtJ0qenpyHG6zN5XjrAqBa90tEjrSCYm9Dw+d/c9vI2NpcjKJqccPLQldsQDhaUPKnevd1aDiNcukTSHhEPiv5BBrYlqq4AByOhohIGaZWqBlr+wn55IrN9Wj19hC2A3S3ldrr2O4ThsxfLxl5HQOWQhstBYaThSi8MOgElzLpNbRW74YuvQZf2fdOWPGPkZ4Ycjgz4/Fcsj8sJ3Yj82Sb0xNXdrcYsCn7LKBJh27+REZLdt0mIlKq++RzJYjrymZtgmHjNpSY1UjJTccC98dmBBUemnf7JJidxq3Q5rYAah3Ky1I9GIeln3x27STkXZAH35OWJ0rv1I322nOoM1uBByKQefBlJMwa3NZHLAd6GF+Px+BzeH+v4yzytuehygz4hUUh7pFARzj6xoy62ia031Bh2fMHEWdJQ0ZZGLJPSddn2B9pJ5+lO6UsHiUmPcJFmTOd1dL7sRdDHm8nhaeGY9Lyj3UAM8IQ93gEQmc/DPy9EZ+c+wi1zT24P1IHw+9SEXrHoR8PX6PEUc+h9XdH/gxXS5+hnzYVOdoQz0JjQIhHJ8EkIqK7a+qEmmuVyFhTBJO46Zk7N5jWFgNS9OWwRGejapebczMN0R9qxE1nfHwROicMmhXrkaiNcH7OphFs8OVDLA0ninDs/SY0yEFJ2nwHhKgRuXI9Uh6PQfAD/aGkBQmvf4DMhbc3714JNUK3+Syq/ngC737cJoUpqUB+nY9IQWtNKhIine0mGd9Q43iMuOGppAI0bIkQN4iIaLKaOqGGiIiIFG0Kj1NDRERESsJQQ0RERIrAUENERESKwFBDREREisBQQ0RERIrAUENERESKwFBDREREisBQQ0RERIrAUENERESKwFBDREREisBQQ0RERIrAUENERESKwFBDREREisBQQ0RERIrAUENERESKwFBDREREisBQQ0RERIrAUENERESKwFBDREREisBQQ0RERIrAUENERESKwFBDREREisBQQ0RERIrAUENERESKwFBDREREisBQQ0RERIrAUENERESKwFBDREREisBQQ0RERIrAUENERESKwFBDREREisBQQ0RERIrAUENERESKwFBDREREisBQQ0RERIrAUENERESKwFBDREREisBQQ0RERIrAUENERESKwFBDREREisBQQ0RERIrAUENERESKwFBDREREisBQQ0RERIrAUENERESKwFBDREREisBQQ0RERIrAUENERESKwFBDREREisBQQ0RERIrAUENERESKcJ9NIq57yIqLR59EyrEuIKkADVsiRLl3dV+uQWlFJeo+bkP7DblEheDICCxbsR6J2ggETLPP5lpfD9o/PoGSkzUwNXShWypSzQjEvPkxSP5NKiJnOGZzZ2x16EDV9iTkXRA33Vmoh/H1eASIm0RERDRyIw81bQYkbixHu3x9PEJNXwfq9m9FZnWXFELCEPd4CPzsd1hh+esZGFusgHoJ8l9/GcsC7XcMJS3DuGcjcmqt8AuLQtwjgVIckXzbgQZjPS7eUGFZzh+Qr3WxAG/UAWZUpG5E/rQopEjP71bAUujWRIjnICIiolGRQ43HvrtqK3/mUduiJ5+wrV70qG3BwUZxh7d025oPPmFbsGilbcc7n9tufieKB7h+LteWID/3k4dtl53cf3sZT9hy/3JVlA0gvYbKHSvt9x++dEsUDuSNOsgabYXj8h4RERGRMyNqU2OpfhX5LWpkPLsewaLMm6zNxcgu60LwpgLkrwmBn5PDOwGLs7H/OTVgLkfphz2idIAva3BAXkZyNjJXSPMNNk2NuJdehi6wCyVFlbCI4n5eqYOs02zfmxX6X/0dt4mIiGhceR5qOsqRv79F2tjvQMIs+8EcL7Oi4S9yyIiBfn2YKHMueGk8NNLU+Fmbo2CA1rrjuIgIpCREOA45OeMThYSnpFDSchzGOxbhnTrYWa3S0oDpPuPxXhEREdFgHoaaDhgPFMOkjkfOMBv70WtDq9yoduEczB4uB8xQO/YUXTGj017Qz4zmf+8B5i/E3AdEkQtB85cjFD345LMOUSLzRh2E/92BBmkS/JNh2tMQERGRV3gUarpri5Br8oUuKxXh47bjIRDLdu7D4ZQozxvM+vnduTfG+ne0X5ams0MQ5ChxbWYIIqVJw9W/O27beaEOgvVbub+VL/x8HLeJiIhofA0fam6cRf7eekxfn4n0ub6icDz4IzgyCpFhoqeSO+YW+16Q8Hn/fGf4+KbT3kYm8icPOm67M00FlRw4zB0D9rR4oQ5Cd+fX0v9qBAyzx4iIiIi8Y5hQ0wPTm/kwIgaZz0QNv6GfIK0fnUIrwhCncdIQWKIabgwbuwcRNE9cHYXh6mDpkNvaPIjpMMNUloXNSY8hUrPMfolOSkNO2Vm0u2hjTERERCPnNtRYGw3IPwVod22GZrIcRrlWCcO/dSEoKRW/8mAAvXHhSR1uyc2EzyEzaSMyK/4O3/mxSEmOR8r6KDzca4bxUB4SE7eh4gqTDRERkTe4DjW9TTC8VoPrmnRkRE+Sbsl9Hah6zQCTvOcoxU3vpvHkUR2koPLDCASrw5Bx8G2YTpUh/3k90p+WLs/uQ8mpD2DcH4tQaxPy0/JQZx+tmIiIiMbCRaix4uJbeSg1hyHzuckyfH8PLh7Zijy5wXJBxl3ac+RpHXwRvqEA5WUFSJjtPBAGLN6BkrwYqHrrUVjaZO/+TURERKPnPNS0FSP3WBfCn9uBuEnSI9lSnYVNZT3Q7DoI/bg2WHbN23VQLdyAjDBpuac+QmufKCQiIqJRGRpq+lpQ8mI52tWJ2LnGeSPYiWZtLkLG3hY8lLQP+Y/fnZQ1PnVQY8FKaVm99bj8pSgiIiKiURkSatpPvQqD2R/pL6Uj1KNeROOsoxKZ2yrxlUaPwk2etaOxerTX42tc9eQM2rJR1MFTP/SRD091wMJ2NURERGNyZ6jpOYuSA2bpShcMGx3dj51e1hTBJM9ftm1AeREuymXe1NuEou3Sc82Ix5GX4hE0XMgKCLSP8tvwhTxGzDCsPbglT9WB7tsMjbQOREREdFfcJ5/VUlyXNvQduPjp3/EPcdOlbz5C0Z4atEan4vDqEFHoj9mRIZ6PxDscufdVehZKvgxB9vGDHrbt6UDVb5OQ920qyot17k+62WZA3MZyPLSzTHoNLhY+qjoAncat0OZakX3yjWEf034yCYkHfD2al4iIiFy7c0+NKhDh8oi6w13mhWC6PP+DYQPKvRho5G7TL8phIgApBftGsLEPxOxHfIHLZ/DJMG1U2j89Bwt8seDnLhY+6joAAf8tDEFog+lSlyhxpQutn3YAPmGYdbfG3CEiIlII572f7qqB3abfGPGpGUKXbUA4zCh9p951N+nec6g4IoWJsA3Q9u9ousPY6oBZSxGnBuoqatDurn2PuQbltVKWfHz+5Gi/REREdA8bn1DT14P25nq0Oj19tXtj7jY9Mx7PJfvDcmI3Mk+2DQ02fWZUvZiHil5/pOjjnZ74csx1mBYGXVY8gluKsXN/DSzOgk3nOeS/UIyLPmHIeWrJpDkFBRER0b3qzjY1nrpWiQy5sXBSARq2RIjC2xxtSloAtQ7lZanu27YMYG0pgi6tEu1z45GfshAexYkf/BTzBp+Asq8Ddfu3IrO6C35hUYh7ZA5CZ/vieuMF1BrrcfGGCsty/oB87dBjSl6rg8RSuxsZOefQ/oA/lkUvxdyfz5Hei6v4pPEcqoxmdPuEIP1gAVKkuhEREdHYjEuosbYYkKIvhyU6G1W7Yjxua9NZLYWhvVIYGomFehhfdz7qcWdDMQrfqoGpoQvdcoEULiJ/EYvk36Qi0kUbFm/XAdeaUFVxHBWmFrSaHfuN/NQh0PzLeqSsjkEw8wwREZFXjC7UEBEREU0yk7ChMBEREdHIMdQQERGRIjDUEBERkSIw1BAREZEiMNQQERGRIjDUEBERkSIw1BAREZEiMNQQERGRIjDUEBERkSIw1BAREZEiMNQQERGRIjDUEBERkSIw1BAREZEiMNQQERGRIjDUEBERkSIw1BAREZEiMNQQERGRIjDUEBERkSIw1BAREZEiMNQQERGRIjDUEBERkSIw1NAk04Gq7csQub0SnaKEiIjIEww11g5crH4VGWuKcFEUeZ/YUGtcXR6DdmMaco5WosHcIx5DE6nbfBaluRuRWd0hSoiI6F5zn00irk8p1o56lB81oMRoRre9JB4lJj3C7de9TQ41Sci7oIY2OQJBonSg7iv1qP1rBzp7VQhdn42iLUsQME3cOaWI9wp6GF+PR4AoHRd9XWitLYbh8BmYrlntRZpdZSh8PNB+nYiI7i1Ta0+NtBFrP1+MnLTHoFmXhaIPOzE3KREJs8X94y4CiU/rke7kkrm3DMYPpA3qOl+0ntiN9LIW8RjyNmtHE6oObYX2sbXQ7alB848joE+KEPcSEdG9akqFmk7jbiTuLIVJChf6/W+g9oP3ULglHqE/EjPcbdMCoXm2AJlhQPuR46jjkahx0ATDum3IO2XG7DV6lJz8ALVv7INuiVrcT0RE96opFWpUP1t/eyO2OAR+k/HwzjQ1ouOkVIN6NF9xFJE3+SN6QKAND1SJciIiutdNqVDjF7LkntiIBfwkxD5t/4KNVr1PjfDJGmiJiGhM2PtpErJ+62i6HBQwuJnsoO7O1+rtPXa0yx29qDKMXfa5vnejDaayLGzeuAqa/p5WsWuxOdcAY5vrY1sXD8nz3u4N1tlQivxdaxEtlqFZk4TMY2dh6RUzuOHoVZSGxFjx/MtXQZeRhdLzZnT3iZnc6etxtIPKuP380UlpyCmrR6cnjycioimDoWYSav+sXvpfjeCZrvcq3bxsQEqSo7Hz9DlR0K2JwPQBs1tO75aCRBoySlqgmrMcuud34PCeVKRoQ/CPj8uRs3EtdEeb4Ojz40JfB+r2roX2hRO47LMQCcnxSEmORfSPO1F3NA9xqVLwcRVs+rpg+n0StEl5MDRaEaqVHytdfr0Uwd82oWinFMa2GtDqLhj1tqBk61ok7q3BrZlLxfPHYAHMMB7KwuoXKmFhsCEion5yl+6pzWKr3PaobcGiQluzKPG+ETzHFyds+kWP2ha9eMZ2UxTdJpazdact+8mVtuQ/NtpufifuGuDWx7m2RdIyEgrO2K47ud/2ncV2vuAJqT4rbfs/7haFtzUflOuaYys8+IRt0Y7jtstDZ7F99f4W+3OsLrkkSga6ZWt+07F8fcXnTut4/VyuLUF+nTtO2a6LMof+15hvK9yx0pbwSrXtqyGP75bqKC//UZv+fYsoG6NPC727PCIimnDcUzNJWK+1oeHUbug2GtAQEo8jO2PgJ+4borEerZp9OLIhwknbkB6YjGdhRQz0W2Kcj3Uj97LalIEEHysq3jnjYuTecyg1LcWRl3QI9RVFAwQ9vgMZYYDlrTNDBy38shIHjnUhaP3LyF/nvP1KwOJs7H9ODaupGFWXReFAjTUoRzoKd8YiaMjjfRH+jFx/wFRbz5GHiYjIjqFmQlUiRbQLGXzRrEnD5tfO/f/bux+YKO5ED+DfxmR7vKztHVgjlMuKCcEcgsG44nPVOxf17aNRsArt45ZEoI+A2kL9g9Ss1hZqOXoiXNQ1V8F7JyUVbYVaDBcLptVN4e0FElryRBrpvnsuhoipQs66ObJvZvdnRdgd/rhwuPv9JNOZ/e3M7CxrMt/O7x9UW0rwWWUeYqQbtndxyDTGwXPllBprDl6G1WKCTqlNdFA0YpdIa4sNdnfJCGoYC3MVrkOD2FVS2rnfjRt9okjounRaCjoaGF+O93KNbhGGdBikEFZv9TQmjwb5byR7CDSCKh46g7Ru8Xb9REQUaBhqppU8orBoWzJqSYQhVo2u04VI2WWGVenxw/LV0D4vtictGC8qDs2yGiuilSIJMCfY0wls6Lg6CCxci6XhosgbtRTOyktg0nkYwXdJInSKx6vwnCtwDeCeYsMgIiIKFAw108r7iMK5r+1BkfkCLGf2QN9Xi22vKzTCnRYq/MzbUxIlQ7dgl6uTFkciwl2iIBgR2nhoFwSL18OoVHhWbCq7hds/iE0iIgpoDDUzTXgiTO9nIcZWh5wTV5R7J41F7tJ9/gPsz0971KV62JJZI/bzpf5e9MjrWcpPeYiIiHyNoWYm0iQjfR3gOPclrJNKNYPoqsmGXu7S/WELHoQn4Lf7SnC8/PElTy92JyIi8gMMNTOSGnNekNeTq1qxNxQi85gN83PK0HzhE5TuzkLSynho5aqeYcvieeIAXwoJdVc7DbGhCxERTS+GGn8z1I6zRzrh0OehwmOX7yk2ax7C5FnPu9kriYiIphdDzYzUixuuySznYc5EZxDvt6HnPqBbLgUaUeTZIO7dFZs+pUHsSjXQ9hWsI7p6jzLUigq5fc+xdlFAREQ0eQw1M5CjoxYftQCqLb+GdqLtbcWTGev17xQbGTs6KlHRIF74WNS6dMSgE1Uftypfg/USaqFCyjJ5VnIiIqInw1AzEfLkih2t6JrCIWwHuqtRsLMOPUHRKHh1leLgdR6FrIZBLzcyLkd5y4gJLmXSd+hqOABj7kXcdI3z4sCPvp4/KTwZb2YEw37mAArOdXucuHKg04wcUxOgy4VxCXtKERHRk2OomYD+S4VIzS2E8fVKd7flCWtH7ckKmD0uxShI+zfot1bCoopDwR9LkORhTLqxBcOwzYQkzR2c3bUZ+uxCVDz8jN/vROqGDTAeasX83UdRukne3wa7z0OaCjEZ/4XjGSGwHsmGYcsOlJ6sRP3VJtTXfID9uRtgyK7F94uMqHpHYdRgIiKiCWComYDZv4xGVJC0XjQfc0TZxNjQeKoOVZ6Wj1thnxuHzH1laLxQhpQFHiZcGq/QBJhO1+D49ngsHGxHteszLqL+20FEGU2ovfgXKdBEYuF8udqnE103pqCn0iw1tK/VoLHGhNwlDvz102oU7y1GcdVX6PlFPPLLa9BcnuX6exIREfnCM/KslmKbiIiI6KnFJzVERETkFxhqiIiIyC8w1BAREZFfYKghIiIiv8BQQ0RERH6BoYaIiIj8AkMNERER+QWGGiIiIvILDDVERETkFxhqiIiIyC8w1BAREZFfYKghIiIiv8BQQ0RERH6BoYaIiIj8AkMNERER+QWGGiIiIvILDDVERETkFxhqiIiIyC8w1BAREZFfYKghIiIiv8BQQzNML+p3rYF2Vx36RQkREdF4POOUiO3AcbcTjWdP47PmdlhtDlfRbE0kdPpEpG5MRsxcV5EPyTfqNBS3iJejqBASqYF2ZSI2rlsLrUYtygOR+FshD42HkxEiSn1uyAF7Wy2qz19E83/3ov++VBakRtSyeCQlpsPwrxrMnuXelYiIng4BF2rszQeQv/8KeqQbmM6wFlE/d5c7ettR32jDAIKRVHQUJn2o+w2feBhqNDBkxCFMlA43cKNV3FxViHrFhIrtqxASkDfVaQg19ztRtXMnzB0OzI6WQsyyUClWygbQ1XAFlj4HVLGpqCrLRVSQ6w0iInoKBFSocXRUwJhbh9v6XJj3piJq5AORviaU5hfjrC0YuX/6BJmRovyJPQw1yaiy5CFGlI4y1AvLH3Yg/9wdROQcRW16tHgjkExxqJH+xvVvbUVxWwiMBw8jb+WI8Do0iK7zhcg80gmsM6HxYAJmi7eIiGhmC5w2NY52mN+tQ48mFeaDHgKNbG4CCt7PkkLHHZg/apL+v32azQqF7o0yFEhZpufEaVweFOXkM/2N76HYAhj2HR0daGSz1IjaUoLSTSo4LpXjbLcoJyKiGS9gQo2jrQHVvUDKG1mIUqrW0SQgabm0vvQtvneXTK9ZGuiT5Cc0rei44S4iX7Gh+dNOYGE6MvXBoswTNXTrE6HCIDquS/9oiIjoqRAwoaanu1X6bzSiFrhbT3gXigUL5HU3bvS5CqZdyC/d9V49f+MN1acGv0PHNWm9JBoR7hLv5mmglVaW72+5XxMR0YwXMKEmTGfC8fIsaEXD4LGp8dy/iM1p5vi7u+IrLGRkixK5vcmw7s59ragu2grDWqlMtwb5jXdce/3kbjcsNYXYtnUDdNL78j7axM3YVmRGY7f3uq1vjsn7VuAb8brfWo3SfZuhF+fQbUpDwakm2OUeQ2MYsDVJ15iN1ETx+Ws3wJhfiOqrNgwMiZ2UDA2i52ol9uc/+nx9Wjb217SifzzHD6f6FVLLS3D83zWiYGxhz40VgomIaKYImFAze0E8tNo4hI15j7LhWpu0il7iud3NNOj5H/mpkgYR4d4v9t41MzLTClHxZT/mLIqHcVMc5gzb3X7pgBQkspFf1QnVorUw7t6D4wezkGmIxI9f12L/1s0wnmyHu0O7F0O9uHxoMwxvncG1oOVIyUhGZkYi9C/04/LJYiRlScHHW7AZugPLH9JgSCuGuc2BKIN8rLS8uhoRf29HxV4pjO0wo0spGMm9lHZsRuqhi3gQvlp8fgKWSr9R47FCbHyrDvaJBBtVKGK00r+DBUpVT26OG9/CAhV0C33WWpyIiKaa3PuJhrl+3Jmy4jfOvM/tosAX7M66nb9xLl1R7uwQJV797YwzT/r8FW9/4bwnih4R59mx12n6j/XOjD+3Oe/9Q7w1zIOvi5wrpHOklH3hvO3hfec/7M6rZS9L17Pe+buvB0ThIx1H5Wvd7yw/+rJzxZ7Tzmujd3He/Hy76zM2Vn0rSoZ74Oz40H3+vLPXPV7j7StFrr/zij3nnbdFmdvD71jqLN+z3pnyXoPz5qjjB6RrlM/v69/poX5n89vrnUs3S7/XA1FEREQzXuD0fhqXXjR+WIee0GRkrfPlODVjc/R1w3r+AIxbzbBGJuPEXoWuxG2t6NKV4ER6nIcB4gZhaWyCAwnI257geawbuZdVTj5Sghw4++kXXkbuvYJqy2qceMfo8YlV2Et7kB8N2D/64qdqqp/8Xx2OnLqDsFfeRemWSI+D2IWsNOF3b2rgsFSiXm7nMlLbRdQiF+V7ExE26ng1Yv5Tvn7A0tzq85GHHZ2nYb7kgC4jFTGsfSIiemow1Axjb3gPRRYgZXfWFN3M6pAp2oWMXHSbsrHt91eg2lKCzyrzEKM46FscMo1xYsC4kdRYc/AyrBYTdErfISgasUuktcUGu7tkBDWMhbkK16FB7Cop7dwf3aC669JpKehoYHw53ss1ukUY0mGQQli9tVOUDKdB/hvJHgKNoIqHziCtW7xd/yTdb4f5PSnYRmchzzC9wZaIiJ4MQ40gD8yXf6gTL6aVIH/5VDWmkUcUFm1LRi2JMMSq0XW6ECm7zLAqPX5Yvhra58X2pAXjRcX2squxIlo52c0J9nQCGzquDgIL12JpuCjyRi2Fs/ISmHQewsOSROgUj1fhOVfgGsA9xYZBEyAPzPd2Iar7omF6x4gIb4GKiIhmJIYaWW8dCnbW4aYuD+U53p6A+EIcUl/LQ67HZQ+KzBdgObMH+r5abHtdoRHutFDhZ5O5qQ/dgl2uTlocOXa3aSlYRXhruKtS4VmxqewWbv8gNp/IIL45sQPFFjWMZSVI4kMaIqKnDkPN/XZU7KqAZW4yTryjUN0xXcITYZJHNbbVIefEFeXeSWORu3Sf/wD789MedaketmTWiP18qb8XPfJ61tRFw6lgbyhETs0gdPJIw7H/pG5vRET0RAI71Ayvbjg8VjuWaaRJRvo6wHHuS1gnlWoG0VWTDb3cpfvDFjwIT8Bv95XguDxGy7AlTy92D3DDqx5LX+IjGiKip1UAh5qZXN2gxpwX5PXkqlbkpw6Zx2yYn1OG5gufoHR3FpJWyuP0PL4snicO8KWQUHe105CvGrpMsWmreiQioqkWoKFGCjQns/2zumGoHWePdMKhz0OFxy7fU2zWPIQtlNbdPu6VNBXkQJM1g6oeiYjoiQRkqHG1nzjVj4iMmVrd0Isbrsks52HOuKd1EPpt6LkP6JZLgUYUeTaIe3fFpk9pELtSColtX8E61txZQ62okNv3HGsXBdNItKW6jDgUzaSqRyIimrSACzXD209UvTYzqxscHbX4qAVQbfk1tBO9QPG0wXr9O8VGxo6OSlQ0iBc+FrUuHTHoRNXHrcrXYL2EWukXSFkmz0o+jYa3paosA4ejISLyD4EVap60/YQ8uWJHK7p8PYTtMAPd1a5r7AmKRsGrqyZ+jSGrYdBLgeFcOcpbRkxwKZO+Q1fDARhzL+Km6+mEAz9OdGLIsYQn482MYNjPHEDBuW6PE1cOdJqRY2oCdLkwLpnOaMmu20RE/uoZea4Ese3fHO0wb92JKpsGmUW5WKpcNyOo8OLiR5Ng9jfugKGoE9AYUVuTNY5xWB6SZ9dOQ3GLPPiedD5R+rgB9DRfwWWbA3g+DgVH30XKgpFtfcR5kIfGw8kYOYf3T3qbULyrGPU2YHZ0PJKWhbrD0Q82XG5uR89dFdbsPookezbya6JhOi9tz3Ud6SLP0p1Zk4wqSx5iRJkn/Q3S3+MQRh3vIoUn6ynp/Kd6gbnRSHopDlEL5wP/24a/XvkKzR2DeFZrhPn9LEQ9VvUzzu8ocV/n6OtXIv+GG6XfcLYhC/sNkeMLjSGR45oEk4iI/rkCJ9T01SF/UwUs4uX4PH7DdHSakZlXC7vehPp9CnMzjfIw1IiXngSpEbUoGrp1ryDVEOd5zqYJ3PDlKhbrmQqc+rwdVjkoSbfvkEgNtOtfQeZLCYh4/mEo6UTK4b+gYPmj27tPQo0wYGtC/Z/P4LOvu6UwJRXI33OZFLQ2ZSFF6+kxydSGGvcx4sV4pZXBuj1OvCAiopkqcEINERER+bUAHqeGiIiI/AlDDREREfkFhhoiIiLyCww1RERE5BcYaoiIiMgvMNQQERGRX2CoISIiIr/AUENERER+gaGGiIiI/ADw/4qIMaMGyGF3AAAAAElFTkSuQmCC)"
      ]
    },
    {
      "cell_type": "code",
      "execution_count": 97,
      "metadata": {
        "id": "eZF7ezXlozIE"
      },
      "outputs": [],
      "source": [
        "hierarchical_dict = {\n",
        "    2022: {\"Computer Science\": {1: {\"Roll Number\":32,\"Name\": \"Madhav\",\"Marks\": {\"Maths\": 100,\"English\": 80}},2: {\"Roll Number\":45,\"Name\": \"Sahil\",\"Marks\": {\"Maths\": 80,\"English\": 10}}},\n",
        "    \"Electrical\": {1: {\"Roll Number\":12,\"Name\": \"Jinay\",\"Marks\": {\"Maths\": 50,\"English\": 50}},2: {\"Roll Number\":39,\"Name\": \"Sanskar\",\"Marks\": {\"Maths\": 100,\"English\": 45}}}},\n",
        "\n",
        "    2023: {\"Computer Science\": {1: {\"Roll Number\":2,\"Name\": \"Dhyey\",\"Marks\": {\"Maths\": 69,\"English\": 34}},2: {\"Roll Number\":23,\"Name\": \"Progyan\",\"Marks\": {\"Maths\": 57,\"English\": 100}}},\n",
        "    \"Electrical\": {1: {\"Roll Number\":45,\"Name\": \"Ksheer\",\"Marks\": {\"Maths\": 92,\"English\": 63}},2: {\"Roll Number\":98,\"Name\": \"Yeeshu\",\"Marks\": {\"Maths\": 19,\"English\": 56}}}},\n",
        "\n",
        "    2024: {\"Computer Science\": {1: {\"Roll Number\":13,\"Name\": \"Dhruv\",\"Marks\": {\"Maths\": 49,\"English\": 24}},2: {\"Roll Number\":27,\"Name\": \"Saatvik\",\"Marks\": {\"Maths\": 87,\"English\": 30}}},\n",
        "    \"Electrical\": {1: {\"Roll Number\":42,\"Name\": \"Vrajesh\",\"Marks\": {\"Maths\": 22,\"English\": 43}}}},\n",
        "    2025: {\"Computer Science\": {1: {\"Roll Number\":6,\"Name\": \"Dhairya\",\"Marks\": {\"Maths\": 56,\"English\": 84}}},\n",
        "    \"Electrical\": {1: {\"Roll Number\":12,\"Name\": \"Pushpendra\",\"Marks\": {\"Maths\": 62,\"English\": 73}}}}}"
      ]
    },
    {
      "attachments": {},
      "cell_type": "markdown",
      "metadata": {
        "id": "RxgMayano0hI"
      },
      "source": [
        "**Q8. Store the same information using Python classes. We have an overall database which is a list of year objects. Each year contains a list of branches. Each branch contains a list of students. Each student has some properties like name, roll number and has marks in some subjects.**"
      ]
    },
    {
      "cell_type": "code",
      "execution_count": 98,
      "metadata": {
        "id": "GRs4nJsYo30Q"
      },
      "outputs": [],
      "source": [
        "class Student:\n",
        "    def __init__(self, roll, name, marks):          ## Student class stores the roll number, name, marks of the student\n",
        "        self.Roll = roll\n",
        "        self.Name = name\n",
        "        self.Marks = marks\n",
        "\n",
        "class Branch:\n",
        "    def __init__(self, name, students):             ## Branch class stores the branch name and student\n",
        "        self.Name = name\n",
        "        self.Students = students\n",
        "\n",
        "class Year:\n",
        "    def __init__(self, year, branches):             ## Year class stores the Year and the branch data of the student\n",
        "        self.Year = year\n",
        "        self.Branches = branches\n",
        "\n",
        "database = [\n",
        "    Year(2022, [Branch('Computer Science', [Student(32, 'Madhav', {'Maths': 100, 'English': 80}),Student(45, 'Sahil', {'Maths': 80, 'English': 10})]),Branch('Electrical', [Student(12, 'Jinay', {'Maths': 50, 'English': 50}),Student(39, 'Sanskar', {'Maths': 100, 'English': 45})])]),\n",
        "\n",
        "    Year(2023, [Branch('Computer Science', [Student(2, 'Dhyey', {'Maths': 69, 'English': 34}),Student(23, 'Progyan', {'Maths': 57, 'English': 100})]),Branch('Electrical', [Student(45, 'Ksheer', {'Maths': 92, 'English': 63}),Student(98, 'Yeeshu', {'Maths': 19, 'English': 56})])]),\n",
        "    \n",
        "    Year(2024, [Branch('Computer Science', [Student(13, 'Dhruv', {'Maths': 49, 'English': 24}),Student(27, 'Saatvik', {'Maths': 87, 'English': 30})]),Branch('Electrical', [Student(42, 'Vrajesh', {'Maths': 22, 'English': 43})])]),\n",
        "\n",
        "    Year(2025, [Branch('Computer Science', [Student(6, 'Dhairya', {'Maths': 56, 'English': 84})]),Branch('Electrical', [Student(12, 'Pushpendra', {'Maths': 62, 'English': 73})])])\n",
        "]\n"
      ]
    },
    {
      "cell_type": "code",
      "execution_count": 99,
      "metadata": {},
      "outputs": [
        {
          "name": "stdout",
          "output_type": "stream",
          "text": [
            "45\n",
            "Sahil\n",
            "{'Maths': 80, 'English': 10}\n"
          ]
        }
      ],
      "source": [
        "print(database[0].Branches[0].Students[1].Roll)\n",
        "print(database[0].Branches[0].Students[1].Name)\n",
        "print(database[0].Branches[0].Students[1].Marks)"
      ]
    },
    {
      "attachments": {},
      "cell_type": "markdown",
      "metadata": {
        "id": "AOUp6T-I2T9e"
      },
      "source": [
        "**Q9. Using matplotlib plot the following functions on the domain: x = 0.5 to 100.0 in steps of 0.5.**\n",
        "\n",
        "![image.png](data:image/png;base64,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)"
      ]
    },
    {
      "cell_type": "code",
      "execution_count": 101,
      "metadata": {
        "id": "Dqu4dwiW2mNF"
      },
      "outputs": [],
      "source": [
        "# Plot having all the plot in different subplots\n",
        "x = jnp.linspace(0.5,100,200)  ## We want step size of 0.5. Thus, (100-0.5)/(200-1) = 0.5 (The required step size)\n",
        "y1 = x\n",
        "y2 = x**2\n",
        "y3 = (x**3)/100\n",
        "y4 = jnp.sin(x)\n",
        "y5 = jnp.sin(x)/x\n",
        "y6 = jnp.log(x)\n",
        "y7 = jnp.exp(x)"
      ]
    },
    {
      "cell_type": "code",
      "execution_count": 102,
      "metadata": {
        "id": "NegbKfhh9HsX"
      },
      "outputs": [
        {
          "data": {
            "image/png": "[encoded data removed]",
            "text/plain": [
              "<Figure size 576x432 with 7 Axes>"
            ]
          },
          "metadata": {
            "needs_background": "light"
          },
          "output_type": "display_data"
        }
      ],
      "source": [
        "fig, axs = plt.subplots(4, 2, figsize=(8,6))\n",
        "axs[0, 0].plot(x, y1)              \n",
        "axs[0, 0].set_title(\"y = x\")        ## y = x\n",
        "axs[1, 0].plot(x, y2)\n",
        "axs[1, 0].set_title(\"y = x^2\")      ## y = x^2\n",
        "axs[2, 0].plot(x, y3)\n",
        "axs[2, 0].set_title(\"y = (x^3)/100\")  ## y = x^3/100\n",
        "axs[3, 0].plot(x, y4) \n",
        "axs[3, 0].set_title(\"y = sin(x)\")   ## y = sin(x)\n",
        "axs[0, 1].plot(x, y5) \n",
        "axs[0, 1].set_title(\"y = sin(x)/x\") ## y = sin(x)/x\n",
        "axs[1, 1].plot(x, y6) \n",
        "axs[1, 1].set_title(\"y = log(x\")    ## y = log(x)\n",
        "axs[2, 1].plot(x, y7) \n",
        "axs[2, 1].set_title(\"y = e^x\")      ## y = e^x\n",
        "fig.delaxes(axs[3,1])\n",
        "fig.tight_layout()"
      ]
    },
    {
      "cell_type": "code",
      "execution_count": 104,
      "metadata": {
        "id": "xwlRZUZs60_8"
      },
      "outputs": [],
      "source": [
        "# All functions in a single plot for comparison purpose\n",
        "\n",
        "# plt.plot(x,y1, label = \"y = x\")\n",
        "# plt.plot(x,y2, label = \"y = x^2\")\n",
        "# plt.plot(x,y3, label = \"y = (x^3/100)\")\n",
        "# plt.plot(x,y4, label = \"y = sin(x)\")\n",
        "# plt.plot(x,y5, label = \"y = sin(x)/x\")\n",
        "# plt.plot(x,y6, label = \"y = log(x)\")\n",
        "# plt.plot(x,y7, label = \"y = e^x\")\n",
        "# plt.legend()\n",
        "# plt.show()"
      ]
    },
    {
      "attachments": {},
      "cell_type": "markdown",
      "metadata": {
        "id": "tTbyqyaO9x2s"
      },
      "source": [
        "**Q10. Using numpy generate a matrix of size 20X5 containing random numbers drawn uniformly from the range of 1 to 2. Using Pandas create a dataframe out of this matrix. Name the columns of the dataframe as “a”, “b”, “c”, “d”, “e”. Find the column with the highest standard deviation. Find the row with the lowest mean**"
      ]
    },
    {
      "cell_type": "code",
      "execution_count": null,
      "metadata": {
        "id": "Sj8jBlqd-CHf"
      },
      "outputs": [],
      "source": [
        "random_matrix = np.random.rand(20,5)\n",
        "random_matrix = random_matrix + 1     ## Transforming matrix values ranging between 0 & 1 to 1 & 2 "
      ]
    },
    {
      "cell_type": "code",
      "execution_count": null,
      "metadata": {
        "id": "kErPr6vM-5Uj"
      },
      "outputs": [
        {
          "data": {
            "text/html": [
              "<div>\n",
              "<style scoped>\n",
              "    .dataframe tbody tr th:only-of-type {\n",
              "        vertical-align: middle;\n",
              "    }\n",
              "\n",
              "    .dataframe tbody tr th {\n",
              "        vertical-align: top;\n",
              "    }\n",
              "\n",
              "    .dataframe thead th {\n",
              "        text-align: right;\n",
              "    }\n",
              "</style>\n",
              "<table border=\"1\" class=\"dataframe\">\n",
              "  <thead>\n",
              "    <tr style=\"text-align: right;\">\n",
              "      <th></th>\n",
              "      <th>0</th>\n",
              "      <th>1</th>\n",
              "      <th>2</th>\n",
              "      <th>3</th>\n",
              "      <th>4</th>\n",
              "    </tr>\n",
              "  </thead>\n",
              "  <tbody>\n",
              "    <tr>\n",
              "      <th>0</th>\n",
              "      <td>1.668788</td>\n",
              "      <td>1.788832</td>\n",
              "      <td>1.895740</td>\n",
              "      <td>1.250189</td>\n",
              "      <td>1.919821</td>\n",
              "    </tr>\n",
              "    <tr>\n",
              "      <th>1</th>\n",
              "      <td>1.862605</td>\n",
              "      <td>1.506085</td>\n",
              "      <td>1.567902</td>\n",
              "      <td>1.114932</td>\n",
              "      <td>1.762116</td>\n",
              "    </tr>\n",
              "    <tr>\n",
              "      <th>2</th>\n",
              "      <td>1.173225</td>\n",
              "      <td>1.533836</td>\n",
              "      <td>1.126437</td>\n",
              "      <td>1.072917</td>\n",
              "      <td>1.609027</td>\n",
              "    </tr>\n",
              "    <tr>\n",
              "      <th>3</th>\n",
              "      <td>1.491203</td>\n",
              "      <td>1.674810</td>\n",
              "      <td>1.790854</td>\n",
              "      <td>1.982687</td>\n",
              "      <td>1.084081</td>\n",
              "    </tr>\n",
              "    <tr>\n",
              "      <th>4</th>\n",
              "      <td>1.631212</td>\n",
              "      <td>1.576975</td>\n",
              "      <td>1.650642</td>\n",
              "      <td>1.543179</td>\n",
              "      <td>1.557367</td>\n",
              "    </tr>\n",
              "    <tr>\n",
              "      <th>5</th>\n",
              "      <td>1.868555</td>\n",
              "      <td>1.452012</td>\n",
              "      <td>1.534976</td>\n",
              "      <td>1.690964</td>\n",
              "      <td>1.089495</td>\n",
              "    </tr>\n",
              "    <tr>\n",
              "      <th>6</th>\n",
              "      <td>1.431925</td>\n",
              "      <td>1.102134</td>\n",
              "      <td>1.137810</td>\n",
              "      <td>1.002126</td>\n",
              "      <td>1.209706</td>\n",
              "    </tr>\n",
              "    <tr>\n",
              "      <th>7</th>\n",
              "      <td>1.216637</td>\n",
              "      <td>1.516244</td>\n",
              "      <td>1.570208</td>\n",
              "      <td>1.823961</td>\n",
              "      <td>1.486711</td>\n",
              "    </tr>\n",
              "    <tr>\n",
              "      <th>8</th>\n",
              "      <td>1.891455</td>\n",
              "      <td>1.395061</td>\n",
              "      <td>1.744611</td>\n",
              "      <td>1.552757</td>\n",
              "      <td>1.623825</td>\n",
              "    </tr>\n",
              "    <tr>\n",
              "      <th>9</th>\n",
              "      <td>1.270392</td>\n",
              "      <td>1.937595</td>\n",
              "      <td>1.769655</td>\n",
              "      <td>1.145595</td>\n",
              "      <td>1.537434</td>\n",
              "    </tr>\n",
              "    <tr>\n",
              "      <th>10</th>\n",
              "      <td>1.995786</td>\n",
              "      <td>1.049056</td>\n",
              "      <td>1.302820</td>\n",
              "      <td>1.740813</td>\n",
              "      <td>1.039361</td>\n",
              "    </tr>\n",
              "    <tr>\n",
              "      <th>11</th>\n",
              "      <td>1.746671</td>\n",
              "      <td>1.573421</td>\n",
              "      <td>1.731706</td>\n",
              "      <td>1.550833</td>\n",
              "      <td>1.939403</td>\n",
              "    </tr>\n",
              "    <tr>\n",
              "      <th>12</th>\n",
              "      <td>1.346402</td>\n",
              "      <td>1.574469</td>\n",
              "      <td>1.050780</td>\n",
              "      <td>1.553433</td>\n",
              "      <td>1.419393</td>\n",
              "    </tr>\n",
              "    <tr>\n",
              "      <th>13</th>\n",
              "      <td>1.983162</td>\n",
              "      <td>1.945607</td>\n",
              "      <td>1.138279</td>\n",
              "      <td>1.041616</td>\n",
              "      <td>1.120675</td>\n",
              "    </tr>\n",
              "    <tr>\n",
              "      <th>14</th>\n",
              "      <td>1.192747</td>\n",
              "      <td>1.726168</td>\n",
              "      <td>1.543978</td>\n",
              "      <td>1.534925</td>\n",
              "      <td>1.464537</td>\n",
              "    </tr>\n",
              "    <tr>\n",
              "      <th>15</th>\n",
              "      <td>1.006694</td>\n",
              "      <td>1.392472</td>\n",
              "      <td>1.998938</td>\n",
              "      <td>1.820291</td>\n",
              "      <td>1.572861</td>\n",
              "    </tr>\n",
              "    <tr>\n",
              "      <th>16</th>\n",
              "      <td>1.196463</td>\n",
              "      <td>1.920469</td>\n",
              "      <td>1.424147</td>\n",
              "      <td>1.619327</td>\n",
              "      <td>1.203108</td>\n",
              "    </tr>\n",
              "    <tr>\n",
              "      <th>17</th>\n",
              "      <td>1.328066</td>\n",
              "      <td>1.344953</td>\n",
              "      <td>1.394752</td>\n",
              "      <td>1.022232</td>\n",
              "      <td>1.660347</td>\n",
              "    </tr>\n",
              "    <tr>\n",
              "      <th>18</th>\n",
              "      <td>1.169990</td>\n",
              "      <td>1.603300</td>\n",
              "      <td>1.619580</td>\n",
              "      <td>1.697905</td>\n",
              "      <td>1.291931</td>\n",
              "    </tr>\n",
              "    <tr>\n",
              "      <th>19</th>\n",
              "      <td>1.292032</td>\n",
              "      <td>1.755529</td>\n",
              "      <td>1.388224</td>\n",
              "      <td>1.152463</td>\n",
              "      <td>1.905265</td>\n",
              "    </tr>\n",
              "  </tbody>\n",
              "</table>\n",
              "</div>"
            ],
            "text/plain": [
              "           0         1         2         3         4\n",
              "0   1.668788  1.788832  1.895740  1.250189  1.919821\n",
              "1   1.862605  1.506085  1.567902  1.114932  1.762116\n",
              "2   1.173225  1.533836  1.126437  1.072917  1.609027\n",
              "3   1.491203  1.674810  1.790854  1.982687  1.084081\n",
              "4   1.631212  1.576975  1.650642  1.543179  1.557367\n",
              "5   1.868555  1.452012  1.534976  1.690964  1.089495\n",
              "6   1.431925  1.102134  1.137810  1.002126  1.209706\n",
              "7   1.216637  1.516244  1.570208  1.823961  1.486711\n",
              "8   1.891455  1.395061  1.744611  1.552757  1.623825\n",
              "9   1.270392  1.937595  1.769655  1.145595  1.537434\n",
              "10  1.995786  1.049056  1.302820  1.740813  1.039361\n",
              "11  1.746671  1.573421  1.731706  1.550833  1.939403\n",
              "12  1.346402  1.574469  1.050780  1.553433  1.419393\n",
              "13  1.983162  1.945607  1.138279  1.041616  1.120675\n",
              "14  1.192747  1.726168  1.543978  1.534925  1.464537\n",
              "15  1.006694  1.392472  1.998938  1.820291  1.572861\n",
              "16  1.196463  1.920469  1.424147  1.619327  1.203108\n",
              "17  1.328066  1.344953  1.394752  1.022232  1.660347\n",
              "18  1.169990  1.603300  1.619580  1.697905  1.291931\n",
              "19  1.292032  1.755529  1.388224  1.152463  1.905265"
            ]
          },
          "execution_count": 28,
          "metadata": {},
          "output_type": "execute_result"
        }
      ],
      "source": [
        "dataframe = pd.DataFrame(random_matrix)\n",
        "dataframe"
      ]
    },
    {
      "cell_type": "code",
      "execution_count": null,
      "metadata": {
        "id": "wGmidBXygQKV"
      },
      "outputs": [
        {
          "data": {
            "text/html": [
              "<div>\n",
              "<style scoped>\n",
              "    .dataframe tbody tr th:only-of-type {\n",
              "        vertical-align: middle;\n",
              "    }\n",
              "\n",
              "    .dataframe tbody tr th {\n",
              "        vertical-align: top;\n",
              "    }\n",
              "\n",
              "    .dataframe thead th {\n",
              "        text-align: right;\n",
              "    }\n",
              "</style>\n",
              "<table border=\"1\" class=\"dataframe\">\n",
              "  <thead>\n",
              "    <tr style=\"text-align: right;\">\n",
              "      <th></th>\n",
              "      <th>a</th>\n",
              "      <th>b</th>\n",
              "      <th>c</th>\n",
              "      <th>d</th>\n",
              "      <th>e</th>\n",
              "    </tr>\n",
              "  </thead>\n",
              "  <tbody>\n",
              "    <tr>\n",
              "      <th>0</th>\n",
              "      <td>1.668788</td>\n",
              "      <td>1.788832</td>\n",
              "      <td>1.895740</td>\n",
              "      <td>1.250189</td>\n",
              "      <td>1.919821</td>\n",
              "    </tr>\n",
              "    <tr>\n",
              "      <th>1</th>\n",
              "      <td>1.862605</td>\n",
              "      <td>1.506085</td>\n",
              "      <td>1.567902</td>\n",
              "      <td>1.114932</td>\n",
              "      <td>1.762116</td>\n",
              "    </tr>\n",
              "    <tr>\n",
              "      <th>2</th>\n",
              "      <td>1.173225</td>\n",
              "      <td>1.533836</td>\n",
              "      <td>1.126437</td>\n",
              "      <td>1.072917</td>\n",
              "      <td>1.609027</td>\n",
              "    </tr>\n",
              "    <tr>\n",
              "      <th>3</th>\n",
              "      <td>1.491203</td>\n",
              "      <td>1.674810</td>\n",
              "      <td>1.790854</td>\n",
              "      <td>1.982687</td>\n",
              "      <td>1.084081</td>\n",
              "    </tr>\n",
              "    <tr>\n",
              "      <th>4</th>\n",
              "      <td>1.631212</td>\n",
              "      <td>1.576975</td>\n",
              "      <td>1.650642</td>\n",
              "      <td>1.543179</td>\n",
              "      <td>1.557367</td>\n",
              "    </tr>\n",
              "    <tr>\n",
              "      <th>5</th>\n",
              "      <td>1.868555</td>\n",
              "      <td>1.452012</td>\n",
              "      <td>1.534976</td>\n",
              "      <td>1.690964</td>\n",
              "      <td>1.089495</td>\n",
              "    </tr>\n",
              "    <tr>\n",
              "      <th>6</th>\n",
              "      <td>1.431925</td>\n",
              "      <td>1.102134</td>\n",
              "      <td>1.137810</td>\n",
              "      <td>1.002126</td>\n",
              "      <td>1.209706</td>\n",
              "    </tr>\n",
              "    <tr>\n",
              "      <th>7</th>\n",
              "      <td>1.216637</td>\n",
              "      <td>1.516244</td>\n",
              "      <td>1.570208</td>\n",
              "      <td>1.823961</td>\n",
              "      <td>1.486711</td>\n",
              "    </tr>\n",
              "    <tr>\n",
              "      <th>8</th>\n",
              "      <td>1.891455</td>\n",
              "      <td>1.395061</td>\n",
              "      <td>1.744611</td>\n",
              "      <td>1.552757</td>\n",
              "      <td>1.623825</td>\n",
              "    </tr>\n",
              "    <tr>\n",
              "      <th>9</th>\n",
              "      <td>1.270392</td>\n",
              "      <td>1.937595</td>\n",
              "      <td>1.769655</td>\n",
              "      <td>1.145595</td>\n",
              "      <td>1.537434</td>\n",
              "    </tr>\n",
              "    <tr>\n",
              "      <th>10</th>\n",
              "      <td>1.995786</td>\n",
              "      <td>1.049056</td>\n",
              "      <td>1.302820</td>\n",
              "      <td>1.740813</td>\n",
              "      <td>1.039361</td>\n",
              "    </tr>\n",
              "    <tr>\n",
              "      <th>11</th>\n",
              "      <td>1.746671</td>\n",
              "      <td>1.573421</td>\n",
              "      <td>1.731706</td>\n",
              "      <td>1.550833</td>\n",
              "      <td>1.939403</td>\n",
              "    </tr>\n",
              "    <tr>\n",
              "      <th>12</th>\n",
              "      <td>1.346402</td>\n",
              "      <td>1.574469</td>\n",
              "      <td>1.050780</td>\n",
              "      <td>1.553433</td>\n",
              "      <td>1.419393</td>\n",
              "    </tr>\n",
              "    <tr>\n",
              "      <th>13</th>\n",
              "      <td>1.983162</td>\n",
              "      <td>1.945607</td>\n",
              "      <td>1.138279</td>\n",
              "      <td>1.041616</td>\n",
              "      <td>1.120675</td>\n",
              "    </tr>\n",
              "    <tr>\n",
              "      <th>14</th>\n",
              "      <td>1.192747</td>\n",
              "      <td>1.726168</td>\n",
              "      <td>1.543978</td>\n",
              "      <td>1.534925</td>\n",
              "      <td>1.464537</td>\n",
              "    </tr>\n",
              "    <tr>\n",
              "      <th>15</th>\n",
              "      <td>1.006694</td>\n",
              "      <td>1.392472</td>\n",
              "      <td>1.998938</td>\n",
              "      <td>1.820291</td>\n",
              "      <td>1.572861</td>\n",
              "    </tr>\n",
              "    <tr>\n",
              "      <th>16</th>\n",
              "      <td>1.196463</td>\n",
              "      <td>1.920469</td>\n",
              "      <td>1.424147</td>\n",
              "      <td>1.619327</td>\n",
              "      <td>1.203108</td>\n",
              "    </tr>\n",
              "    <tr>\n",
              "      <th>17</th>\n",
              "      <td>1.328066</td>\n",
              "      <td>1.344953</td>\n",
              "      <td>1.394752</td>\n",
              "      <td>1.022232</td>\n",
              "      <td>1.660347</td>\n",
              "    </tr>\n",
              "    <tr>\n",
              "      <th>18</th>\n",
              "      <td>1.169990</td>\n",
              "      <td>1.603300</td>\n",
              "      <td>1.619580</td>\n",
              "      <td>1.697905</td>\n",
              "      <td>1.291931</td>\n",
              "    </tr>\n",
              "    <tr>\n",
              "      <th>19</th>\n",
              "      <td>1.292032</td>\n",
              "      <td>1.755529</td>\n",
              "      <td>1.388224</td>\n",
              "      <td>1.152463</td>\n",
              "      <td>1.905265</td>\n",
              "    </tr>\n",
              "  </tbody>\n",
              "</table>\n",
              "</div>"
            ],
            "text/plain": [
              "           a         b         c         d         e\n",
              "0   1.668788  1.788832  1.895740  1.250189  1.919821\n",
              "1   1.862605  1.506085  1.567902  1.114932  1.762116\n",
              "2   1.173225  1.533836  1.126437  1.072917  1.609027\n",
              "3   1.491203  1.674810  1.790854  1.982687  1.084081\n",
              "4   1.631212  1.576975  1.650642  1.543179  1.557367\n",
              "5   1.868555  1.452012  1.534976  1.690964  1.089495\n",
              "6   1.431925  1.102134  1.137810  1.002126  1.209706\n",
              "7   1.216637  1.516244  1.570208  1.823961  1.486711\n",
              "8   1.891455  1.395061  1.744611  1.552757  1.623825\n",
              "9   1.270392  1.937595  1.769655  1.145595  1.537434\n",
              "10  1.995786  1.049056  1.302820  1.740813  1.039361\n",
              "11  1.746671  1.573421  1.731706  1.550833  1.939403\n",
              "12  1.346402  1.574469  1.050780  1.553433  1.419393\n",
              "13  1.983162  1.945607  1.138279  1.041616  1.120675\n",
              "14  1.192747  1.726168  1.543978  1.534925  1.464537\n",
              "15  1.006694  1.392472  1.998938  1.820291  1.572861\n",
              "16  1.196463  1.920469  1.424147  1.619327  1.203108\n",
              "17  1.328066  1.344953  1.394752  1.022232  1.660347\n",
              "18  1.169990  1.603300  1.619580  1.697905  1.291931\n",
              "19  1.292032  1.755529  1.388224  1.152463  1.905265"
            ]
          },
          "execution_count": 29,
          "metadata": {},
          "output_type": "execute_result"
        }
      ],
      "source": [
        "dataframe.rename(columns = {0:\"a\",1:\"b\",2:\"c\",3:\"d\",4:\"e\"}  , inplace=True)    ## Renaming the columns according to the condition provided in question\n",
        "dataframe"
      ]
    },
    {
      "cell_type": "code",
      "execution_count": null,
      "metadata": {
        "id": "3WgvNMHBg3vL"
      },
      "outputs": [
        {
          "name": "stdout",
          "output_type": "stream",
          "text": [
            "The column having highest std is a and the value is 0.314833083788699\n",
            "The row having lowest mean is 6 and the value is 1.1767402854260722\n"
          ]
        }
      ],
      "source": [
        "print(f\"The column having highest std is {chr(97+dataframe.std(axis=0).argmax())} and the value is {dataframe.std(axis=0).max()}\") ## Added 97 to convert to ascii to get required column in alphabet\n",
        "print(f\"The row having lowest mean is {dataframe.mean(axis=1).argmin()} and the value is {dataframe.mean(axis=1).min()}\")"
      ]
    },
    {
      "attachments": {},
      "cell_type": "markdown",
      "metadata": {
        "id": "cYYoG3kUiTvH"
      },
      "source": [
        "**Q11. Add a new column to the dataframe called “f” which is the sum of the columns “a”, “b”, “c”, “d”, “e”. Create another column called “g”. The value in the column “g” should be “LT8” if the value in the column “f” is less than 8 and “GT8” otherwise. Find the number of rows in the dataframe where the value in the column “g” is “LT8”. Find the standard deviation of the column “f” for the rows where the value in the column “g” is “LT8” and “GT8” respectively.**"
      ]
    },
    {
      "cell_type": "code",
      "execution_count": null,
      "metadata": {
        "id": "cQMnvKtZibox"
      },
      "outputs": [
        {
          "data": {
            "text/html": [
              "<div>\n",
              "<style scoped>\n",
              "    .dataframe tbody tr th:only-of-type {\n",
              "        vertical-align: middle;\n",
              "    }\n",
              "\n",
              "    .dataframe tbody tr th {\n",
              "        vertical-align: top;\n",
              "    }\n",
              "\n",
              "    .dataframe thead th {\n",
              "        text-align: right;\n",
              "    }\n",
              "</style>\n",
              "<table border=\"1\" class=\"dataframe\">\n",
              "  <thead>\n",
              "    <tr style=\"text-align: right;\">\n",
              "      <th></th>\n",
              "      <th>a</th>\n",
              "      <th>b</th>\n",
              "      <th>c</th>\n",
              "      <th>d</th>\n",
              "      <th>e</th>\n",
              "      <th>f</th>\n",
              "    </tr>\n",
              "  </thead>\n",
              "  <tbody>\n",
              "    <tr>\n",
              "      <th>0</th>\n",
              "      <td>1.668788</td>\n",
              "      <td>1.788832</td>\n",
              "      <td>1.895740</td>\n",
              "      <td>1.250189</td>\n",
              "      <td>1.919821</td>\n",
              "      <td>8.523369</td>\n",
              "    </tr>\n",
              "    <tr>\n",
              "      <th>1</th>\n",
              "      <td>1.862605</td>\n",
              "      <td>1.506085</td>\n",
              "      <td>1.567902</td>\n",
              "      <td>1.114932</td>\n",
              "      <td>1.762116</td>\n",
              "      <td>7.813641</td>\n",
              "    </tr>\n",
              "    <tr>\n",
              "      <th>2</th>\n",
              "      <td>1.173225</td>\n",
              "      <td>1.533836</td>\n",
              "      <td>1.126437</td>\n",
              "      <td>1.072917</td>\n",
              "      <td>1.609027</td>\n",
              "      <td>6.515443</td>\n",
              "    </tr>\n",
              "    <tr>\n",
              "      <th>3</th>\n",
              "      <td>1.491203</td>\n",
              "      <td>1.674810</td>\n",
              "      <td>1.790854</td>\n",
              "      <td>1.982687</td>\n",
              "      <td>1.084081</td>\n",
              "      <td>8.023635</td>\n",
              "    </tr>\n",
              "    <tr>\n",
              "      <th>4</th>\n",
              "      <td>1.631212</td>\n",
              "      <td>1.576975</td>\n",
              "      <td>1.650642</td>\n",
              "      <td>1.543179</td>\n",
              "      <td>1.557367</td>\n",
              "      <td>7.959376</td>\n",
              "    </tr>\n",
              "    <tr>\n",
              "      <th>5</th>\n",
              "      <td>1.868555</td>\n",
              "      <td>1.452012</td>\n",
              "      <td>1.534976</td>\n",
              "      <td>1.690964</td>\n",
              "      <td>1.089495</td>\n",
              "      <td>7.636001</td>\n",
              "    </tr>\n",
              "    <tr>\n",
              "      <th>6</th>\n",
              "      <td>1.431925</td>\n",
              "      <td>1.102134</td>\n",
              "      <td>1.137810</td>\n",
              "      <td>1.002126</td>\n",
              "      <td>1.209706</td>\n",
              "      <td>5.883701</td>\n",
              "    </tr>\n",
              "    <tr>\n",
              "      <th>7</th>\n",
              "      <td>1.216637</td>\n",
              "      <td>1.516244</td>\n",
              "      <td>1.570208</td>\n",
              "      <td>1.823961</td>\n",
              "      <td>1.486711</td>\n",
              "      <td>7.613762</td>\n",
              "    </tr>\n",
              "    <tr>\n",
              "      <th>8</th>\n",
              "      <td>1.891455</td>\n",
              "      <td>1.395061</td>\n",
              "      <td>1.744611</td>\n",
              "      <td>1.552757</td>\n",
              "      <td>1.623825</td>\n",
              "      <td>8.207709</td>\n",
              "    </tr>\n",
              "    <tr>\n",
              "      <th>9</th>\n",
              "      <td>1.270392</td>\n",
              "      <td>1.937595</td>\n",
              "      <td>1.769655</td>\n",
              "      <td>1.145595</td>\n",
              "      <td>1.537434</td>\n",
              "      <td>7.660671</td>\n",
              "    </tr>\n",
              "    <tr>\n",
              "      <th>10</th>\n",
              "      <td>1.995786</td>\n",
              "      <td>1.049056</td>\n",
              "      <td>1.302820</td>\n",
              "      <td>1.740813</td>\n",
              "      <td>1.039361</td>\n",
              "      <td>7.127837</td>\n",
              "    </tr>\n",
              "    <tr>\n",
              "      <th>11</th>\n",
              "      <td>1.746671</td>\n",
              "      <td>1.573421</td>\n",
              "      <td>1.731706</td>\n",
              "      <td>1.550833</td>\n",
              "      <td>1.939403</td>\n",
              "      <td>8.542034</td>\n",
              "    </tr>\n",
              "    <tr>\n",
              "      <th>12</th>\n",
              "      <td>1.346402</td>\n",
              "      <td>1.574469</td>\n",
              "      <td>1.050780</td>\n",
              "      <td>1.553433</td>\n",
              "      <td>1.419393</td>\n",
              "      <td>6.944477</td>\n",
              "    </tr>\n",
              "    <tr>\n",
              "      <th>13</th>\n",
              "      <td>1.983162</td>\n",
              "      <td>1.945607</td>\n",
              "      <td>1.138279</td>\n",
              "      <td>1.041616</td>\n",
              "      <td>1.120675</td>\n",
              "      <td>7.229339</td>\n",
              "    </tr>\n",
              "    <tr>\n",
              "      <th>14</th>\n",
              "      <td>1.192747</td>\n",
              "      <td>1.726168</td>\n",
              "      <td>1.543978</td>\n",
              "      <td>1.534925</td>\n",
              "      <td>1.464537</td>\n",
              "      <td>7.462355</td>\n",
              "    </tr>\n",
              "    <tr>\n",
              "      <th>15</th>\n",
              "      <td>1.006694</td>\n",
              "      <td>1.392472</td>\n",
              "      <td>1.998938</td>\n",
              "      <td>1.820291</td>\n",
              "      <td>1.572861</td>\n",
              "      <td>7.791256</td>\n",
              "    </tr>\n",
              "    <tr>\n",
              "      <th>16</th>\n",
              "      <td>1.196463</td>\n",
              "      <td>1.920469</td>\n",
              "      <td>1.424147</td>\n",
              "      <td>1.619327</td>\n",
              "      <td>1.203108</td>\n",
              "      <td>7.363515</td>\n",
              "    </tr>\n",
              "    <tr>\n",
              "      <th>17</th>\n",
              "      <td>1.328066</td>\n",
              "      <td>1.344953</td>\n",
              "      <td>1.394752</td>\n",
              "      <td>1.022232</td>\n",
              "      <td>1.660347</td>\n",
              "      <td>6.750350</td>\n",
              "    </tr>\n",
              "    <tr>\n",
              "      <th>18</th>\n",
              "      <td>1.169990</td>\n",
              "      <td>1.603300</td>\n",
              "      <td>1.619580</td>\n",
              "      <td>1.697905</td>\n",
              "      <td>1.291931</td>\n",
              "      <td>7.382707</td>\n",
              "    </tr>\n",
              "    <tr>\n",
              "      <th>19</th>\n",
              "      <td>1.292032</td>\n",
              "      <td>1.755529</td>\n",
              "      <td>1.388224</td>\n",
              "      <td>1.152463</td>\n",
              "      <td>1.905265</td>\n",
              "      <td>7.493514</td>\n",
              "    </tr>\n",
              "  </tbody>\n",
              "</table>\n",
              "</div>"
            ],
            "text/plain": [
              "           a         b         c         d         e         f\n",
              "0   1.668788  1.788832  1.895740  1.250189  1.919821  8.523369\n",
              "1   1.862605  1.506085  1.567902  1.114932  1.762116  7.813641\n",
              "2   1.173225  1.533836  1.126437  1.072917  1.609027  6.515443\n",
              "3   1.491203  1.674810  1.790854  1.982687  1.084081  8.023635\n",
              "4   1.631212  1.576975  1.650642  1.543179  1.557367  7.959376\n",
              "5   1.868555  1.452012  1.534976  1.690964  1.089495  7.636001\n",
              "6   1.431925  1.102134  1.137810  1.002126  1.209706  5.883701\n",
              "7   1.216637  1.516244  1.570208  1.823961  1.486711  7.613762\n",
              "8   1.891455  1.395061  1.744611  1.552757  1.623825  8.207709\n",
              "9   1.270392  1.937595  1.769655  1.145595  1.537434  7.660671\n",
              "10  1.995786  1.049056  1.302820  1.740813  1.039361  7.127837\n",
              "11  1.746671  1.573421  1.731706  1.550833  1.939403  8.542034\n",
              "12  1.346402  1.574469  1.050780  1.553433  1.419393  6.944477\n",
              "13  1.983162  1.945607  1.138279  1.041616  1.120675  7.229339\n",
              "14  1.192747  1.726168  1.543978  1.534925  1.464537  7.462355\n",
              "15  1.006694  1.392472  1.998938  1.820291  1.572861  7.791256\n",
              "16  1.196463  1.920469  1.424147  1.619327  1.203108  7.363515\n",
              "17  1.328066  1.344953  1.394752  1.022232  1.660347  6.750350\n",
              "18  1.169990  1.603300  1.619580  1.697905  1.291931  7.382707\n",
              "19  1.292032  1.755529  1.388224  1.152463  1.905265  7.493514"
            ]
          },
          "execution_count": 31,
          "metadata": {},
          "output_type": "execute_result"
        }
      ],
      "source": [
        "dataframe['f'] = dataframe['a'] + dataframe['b'] + dataframe['c'] + dataframe['d'] + dataframe['e']  ## Adding new f column\n",
        "dataframe"
      ]
    },
    {
      "cell_type": "code",
      "execution_count": null,
      "metadata": {
        "id": "nvOsMKPGjJu1"
      },
      "outputs": [
        {
          "data": {
            "text/html": [
              "<div>\n",
              "<style scoped>\n",
              "    .dataframe tbody tr th:only-of-type {\n",
              "        vertical-align: middle;\n",
              "    }\n",
              "\n",
              "    .dataframe tbody tr th {\n",
              "        vertical-align: top;\n",
              "    }\n",
              "\n",
              "    .dataframe thead th {\n",
              "        text-align: right;\n",
              "    }\n",
              "</style>\n",
              "<table border=\"1\" class=\"dataframe\">\n",
              "  <thead>\n",
              "    <tr style=\"text-align: right;\">\n",
              "      <th></th>\n",
              "      <th>a</th>\n",
              "      <th>b</th>\n",
              "      <th>c</th>\n",
              "      <th>d</th>\n",
              "      <th>e</th>\n",
              "      <th>f</th>\n",
              "      <th>g</th>\n",
              "    </tr>\n",
              "  </thead>\n",
              "  <tbody>\n",
              "    <tr>\n",
              "      <th>0</th>\n",
              "      <td>1.668788</td>\n",
              "      <td>1.788832</td>\n",
              "      <td>1.895740</td>\n",
              "      <td>1.250189</td>\n",
              "      <td>1.919821</td>\n",
              "      <td>8.523369</td>\n",
              "      <td>GT8</td>\n",
              "    </tr>\n",
              "    <tr>\n",
              "      <th>1</th>\n",
              "      <td>1.862605</td>\n",
              "      <td>1.506085</td>\n",
              "      <td>1.567902</td>\n",
              "      <td>1.114932</td>\n",
              "      <td>1.762116</td>\n",
              "      <td>7.813641</td>\n",
              "      <td>LT8</td>\n",
              "    </tr>\n",
              "    <tr>\n",
              "      <th>2</th>\n",
              "      <td>1.173225</td>\n",
              "      <td>1.533836</td>\n",
              "      <td>1.126437</td>\n",
              "      <td>1.072917</td>\n",
              "      <td>1.609027</td>\n",
              "      <td>6.515443</td>\n",
              "      <td>LT8</td>\n",
              "    </tr>\n",
              "    <tr>\n",
              "      <th>3</th>\n",
              "      <td>1.491203</td>\n",
              "      <td>1.674810</td>\n",
              "      <td>1.790854</td>\n",
              "      <td>1.982687</td>\n",
              "      <td>1.084081</td>\n",
              "      <td>8.023635</td>\n",
              "      <td>GT8</td>\n",
              "    </tr>\n",
              "    <tr>\n",
              "      <th>4</th>\n",
              "      <td>1.631212</td>\n",
              "      <td>1.576975</td>\n",
              "      <td>1.650642</td>\n",
              "      <td>1.543179</td>\n",
              "      <td>1.557367</td>\n",
              "      <td>7.959376</td>\n",
              "      <td>LT8</td>\n",
              "    </tr>\n",
              "    <tr>\n",
              "      <th>5</th>\n",
              "      <td>1.868555</td>\n",
              "      <td>1.452012</td>\n",
              "      <td>1.534976</td>\n",
              "      <td>1.690964</td>\n",
              "      <td>1.089495</td>\n",
              "      <td>7.636001</td>\n",
              "      <td>LT8</td>\n",
              "    </tr>\n",
              "    <tr>\n",
              "      <th>6</th>\n",
              "      <td>1.431925</td>\n",
              "      <td>1.102134</td>\n",
              "      <td>1.137810</td>\n",
              "      <td>1.002126</td>\n",
              "      <td>1.209706</td>\n",
              "      <td>5.883701</td>\n",
              "      <td>LT8</td>\n",
              "    </tr>\n",
              "    <tr>\n",
              "      <th>7</th>\n",
              "      <td>1.216637</td>\n",
              "      <td>1.516244</td>\n",
              "      <td>1.570208</td>\n",
              "      <td>1.823961</td>\n",
              "      <td>1.486711</td>\n",
              "      <td>7.613762</td>\n",
              "      <td>LT8</td>\n",
              "    </tr>\n",
              "    <tr>\n",
              "      <th>8</th>\n",
              "      <td>1.891455</td>\n",
              "      <td>1.395061</td>\n",
              "      <td>1.744611</td>\n",
              "      <td>1.552757</td>\n",
              "      <td>1.623825</td>\n",
              "      <td>8.207709</td>\n",
              "      <td>GT8</td>\n",
              "    </tr>\n",
              "    <tr>\n",
              "      <th>9</th>\n",
              "      <td>1.270392</td>\n",
              "      <td>1.937595</td>\n",
              "      <td>1.769655</td>\n",
              "      <td>1.145595</td>\n",
              "      <td>1.537434</td>\n",
              "      <td>7.660671</td>\n",
              "      <td>LT8</td>\n",
              "    </tr>\n",
              "    <tr>\n",
              "      <th>10</th>\n",
              "      <td>1.995786</td>\n",
              "      <td>1.049056</td>\n",
              "      <td>1.302820</td>\n",
              "      <td>1.740813</td>\n",
              "      <td>1.039361</td>\n",
              "      <td>7.127837</td>\n",
              "      <td>LT8</td>\n",
              "    </tr>\n",
              "    <tr>\n",
              "      <th>11</th>\n",
              "      <td>1.746671</td>\n",
              "      <td>1.573421</td>\n",
              "      <td>1.731706</td>\n",
              "      <td>1.550833</td>\n",
              "      <td>1.939403</td>\n",
              "      <td>8.542034</td>\n",
              "      <td>GT8</td>\n",
              "    </tr>\n",
              "    <tr>\n",
              "      <th>12</th>\n",
              "      <td>1.346402</td>\n",
              "      <td>1.574469</td>\n",
              "      <td>1.050780</td>\n",
              "      <td>1.553433</td>\n",
              "      <td>1.419393</td>\n",
              "      <td>6.944477</td>\n",
              "      <td>LT8</td>\n",
              "    </tr>\n",
              "    <tr>\n",
              "      <th>13</th>\n",
              "      <td>1.983162</td>\n",
              "      <td>1.945607</td>\n",
              "      <td>1.138279</td>\n",
              "      <td>1.041616</td>\n",
              "      <td>1.120675</td>\n",
              "      <td>7.229339</td>\n",
              "      <td>LT8</td>\n",
              "    </tr>\n",
              "    <tr>\n",
              "      <th>14</th>\n",
              "      <td>1.192747</td>\n",
              "      <td>1.726168</td>\n",
              "      <td>1.543978</td>\n",
              "      <td>1.534925</td>\n",
              "      <td>1.464537</td>\n",
              "      <td>7.462355</td>\n",
              "      <td>LT8</td>\n",
              "    </tr>\n",
              "    <tr>\n",
              "      <th>15</th>\n",
              "      <td>1.006694</td>\n",
              "      <td>1.392472</td>\n",
              "      <td>1.998938</td>\n",
              "      <td>1.820291</td>\n",
              "      <td>1.572861</td>\n",
              "      <td>7.791256</td>\n",
              "      <td>LT8</td>\n",
              "    </tr>\n",
              "    <tr>\n",
              "      <th>16</th>\n",
              "      <td>1.196463</td>\n",
              "      <td>1.920469</td>\n",
              "      <td>1.424147</td>\n",
              "      <td>1.619327</td>\n",
              "      <td>1.203108</td>\n",
              "      <td>7.363515</td>\n",
              "      <td>LT8</td>\n",
              "    </tr>\n",
              "    <tr>\n",
              "      <th>17</th>\n",
              "      <td>1.328066</td>\n",
              "      <td>1.344953</td>\n",
              "      <td>1.394752</td>\n",
              "      <td>1.022232</td>\n",
              "      <td>1.660347</td>\n",
              "      <td>6.750350</td>\n",
              "      <td>LT8</td>\n",
              "    </tr>\n",
              "    <tr>\n",
              "      <th>18</th>\n",
              "      <td>1.169990</td>\n",
              "      <td>1.603300</td>\n",
              "      <td>1.619580</td>\n",
              "      <td>1.697905</td>\n",
              "      <td>1.291931</td>\n",
              "      <td>7.382707</td>\n",
              "      <td>LT8</td>\n",
              "    </tr>\n",
              "    <tr>\n",
              "      <th>19</th>\n",
              "      <td>1.292032</td>\n",
              "      <td>1.755529</td>\n",
              "      <td>1.388224</td>\n",
              "      <td>1.152463</td>\n",
              "      <td>1.905265</td>\n",
              "      <td>7.493514</td>\n",
              "      <td>LT8</td>\n",
              "    </tr>\n",
              "  </tbody>\n",
              "</table>\n",
              "</div>"
            ],
            "text/plain": [
              "           a         b         c         d         e         f    g\n",
              "0   1.668788  1.788832  1.895740  1.250189  1.919821  8.523369  GT8\n",
              "1   1.862605  1.506085  1.567902  1.114932  1.762116  7.813641  LT8\n",
              "2   1.173225  1.533836  1.126437  1.072917  1.609027  6.515443  LT8\n",
              "3   1.491203  1.674810  1.790854  1.982687  1.084081  8.023635  GT8\n",
              "4   1.631212  1.576975  1.650642  1.543179  1.557367  7.959376  LT8\n",
              "5   1.868555  1.452012  1.534976  1.690964  1.089495  7.636001  LT8\n",
              "6   1.431925  1.102134  1.137810  1.002126  1.209706  5.883701  LT8\n",
              "7   1.216637  1.516244  1.570208  1.823961  1.486711  7.613762  LT8\n",
              "8   1.891455  1.395061  1.744611  1.552757  1.623825  8.207709  GT8\n",
              "9   1.270392  1.937595  1.769655  1.145595  1.537434  7.660671  LT8\n",
              "10  1.995786  1.049056  1.302820  1.740813  1.039361  7.127837  LT8\n",
              "11  1.746671  1.573421  1.731706  1.550833  1.939403  8.542034  GT8\n",
              "12  1.346402  1.574469  1.050780  1.553433  1.419393  6.944477  LT8\n",
              "13  1.983162  1.945607  1.138279  1.041616  1.120675  7.229339  LT8\n",
              "14  1.192747  1.726168  1.543978  1.534925  1.464537  7.462355  LT8\n",
              "15  1.006694  1.392472  1.998938  1.820291  1.572861  7.791256  LT8\n",
              "16  1.196463  1.920469  1.424147  1.619327  1.203108  7.363515  LT8\n",
              "17  1.328066  1.344953  1.394752  1.022232  1.660347  6.750350  LT8\n",
              "18  1.169990  1.603300  1.619580  1.697905  1.291931  7.382707  LT8\n",
              "19  1.292032  1.755529  1.388224  1.152463  1.905265  7.493514  LT8"
            ]
          },
          "execution_count": 32,
          "metadata": {},
          "output_type": "execute_result"
        }
      ],
      "source": [
        "dataframe['g'] = np.where(dataframe['f']<8,\"LT8\",\"GT8\")\n",
        "dataframe"
      ]
    },
    {
      "cell_type": "code",
      "execution_count": null,
      "metadata": {
        "id": "WPlXcn_Kjfim"
      },
      "outputs": [
        {
          "name": "stdout",
          "output_type": "stream",
          "text": [
            "The total number of rows in the dataframe where the value in the column “g” is “LT8” are 16\n"
          ]
        }
      ],
      "source": [
        "print(f\"The total number of rows in the dataframe where the value in the column “g” is “LT8” are {dataframe['g'].value_counts()['LT8']}\")"
      ]
    },
    {
      "cell_type": "code",
      "execution_count": null,
      "metadata": {
        "id": "2wtTKrBLkZMI"
      },
      "outputs": [
        {
          "name": "stdout",
          "output_type": "stream",
          "text": [
            "The std of the column “f” for the rows where the value in the column “g” is “LT8” is 0.543983486159421 and for “GT8” is 0.25234181435387665\n"
          ]
        }
      ],
      "source": [
        "dataframe_LT8 = dataframe[dataframe['g']==\"LT8\"]\n",
        "std_lt8 = dataframe_LT8['f'].std(axis=0)\n",
        "\n",
        "dataframe_GT8 = dataframe[dataframe['g']==\"GT8\"]\n",
        "std_gt8 = dataframe_GT8['f'].std(axis=0)\n",
        "\n",
        "print(f'The std of the column “f” for the rows where the value in the column “g” is “LT8” is {std_lt8} and for “GT8” is {std_gt8}')"
      ]
    },
    {
      "attachments": {},
      "cell_type": "markdown",
      "metadata": {
        "id": "y8YldVbXKedD"
      },
      "source": [
        "**Q12. Write a small piece of code to explain broadcasting in numpy.**"
      ]
    },
    {
      "cell_type": "code",
      "execution_count": null,
      "metadata": {
        "id": "rcTOdfv6CEUU"
      },
      "outputs": [
        {
          "name": "stdout",
          "output_type": "stream",
          "text": [
            "[4 5 6 7 8]\n",
            "The shape of Vector A is (5,), Vector B's shape is (1,) and their resultant shape is (5,)\n"
          ]
        }
      ],
      "source": [
        "Vector_A = jnp.array([1,2,3,4,5])\n",
        "Vector_B = jnp.array([3])\n",
        "Vector_C = Vector_A + Vector_B\n",
        "print(Vector_C)\n",
        "print(f\"The shape of Vector A is {Vector_A.shape}, Vector B's shape is {Vector_B.shape} and their resultant shape is {Vector_C.shape}\")\n",
        "\n",
        "# Here despite the fact that Vector_A is a 1X5 dimension array still when added with an array of 1X1 dimension\n",
        "# it broadcasts the smaller array to the size of the larger array so that addition can take place to get final result as 5X1 array"
      ]
    },
    {
      "attachments": {},
      "cell_type": "markdown",
      "metadata": {
        "id": "wSbCnXMvEp6p"
      },
      "source": [
        "**Q13. Write a function to compute the argmin of a numpy array. The function should take a numpy array as input and return the index of the minimum element. You can use the np.argmin function to verify your solution.**"
      ]
    },
    {
      "cell_type": "code",
      "execution_count": null,
      "metadata": {
        "id": "O4wKVpMeEusM"
      },
      "outputs": [],
      "source": [
        "def argmin(array):\n",
        "  min_index=0\n",
        "  min_element=array[0]\n",
        "  for current_index in range(array.size):\n",
        "    if(min_element>array[current_index]):\n",
        "      min_element=array[current_index]\n",
        "      min_index=current_index\n",
        "  return min_index"
      ]
    },
    {
      "cell_type": "code",
      "execution_count": null,
      "metadata": {
        "id": "d3Er2Z_6FgUn"
      },
      "outputs": [
        {
          "name": "stdout",
          "output_type": "stream",
          "text": [
            "3 3\n"
          ]
        }
      ],
      "source": [
        "a = jnp.array([2,3,41,0,10,3])\n",
        "print(argmin(a),np.argmin(a))\n",
        "# The implementation done for the argmin function works perfectly as the result matches with the inbuilt function\n",
        "# as indeed the lowest element is at index 3"
      ]
    }
  ],
  "metadata": {
    "colab": {
      "provenance": []
    },
    "kernelspec": {
      "display_name": "new-env",
      "language": "python",
      "name": "new-env"
    },
    "language_info": {
      "codemirror_mode": {
        "name": "ipython",
        "version": 3
      },
      "file_extension": ".py",
      "mimetype": "text/x-python",
      "name": "python",
      "nbconvert_exporter": "python",
      "pygments_lexer": "ipython3",
      "version": "3.8.10"
    },
    "vscode": {
      "interpreter": {
        "hash": "2b31e37b9074bae08611b7a2a22e3d3d4b471992b266722b3aaa7380a11c7391"
      }
    }
  },
  "nbformat": 4,
  "nbformat_minor": 0
}
